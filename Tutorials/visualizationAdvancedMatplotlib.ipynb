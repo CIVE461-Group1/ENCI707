{
 "cells": [
  {
   "cell_type": "markdown",
   "id": "307276c1",
   "metadata": {},
   "source": [
    "# Advanced Matplotlib\n",
    "\n",
    "We'll now explore some of the more detailed and advanced functionalities available in Matplotlib."
   ]
  },
  {
   "cell_type": "code",
   "execution_count": 1,
   "id": "005c02d8",
   "metadata": {},
   "outputs": [],
   "source": [
    "%matplotlib inline\n",
    "import matplotlib.pyplot as plt\n",
    "plt.style.use('seaborn-v0_8-whitegrid')\n",
    "import numpy as np"
   ]
  },
  {
   "cell_type": "markdown",
   "id": "4be8c802",
   "metadata": {},
   "source": [
    "## Visualizing Errors\n",
    "For any scientific measurement, accurate accounting for errors is nearly as important, if not more important, than accurate reporting of the number itself. For example, imagine that you am using some astrophysical observations to estimate the Hubble Constant, the local measurement of the expansion rate of the Universe. You know that the current literature suggests a value of around 71 (km/s)/Mpc, and you measure a value of 74 (km/s)/Mpc with your method. Are the values consistent? The only correct answer, given this information, is this: there is no way to know.\n",
    "\n",
    "Suppose you can augment this information with reported uncertainties: the current literature suggests a value of around 71 ± 2.5 (km/s)/Mpc, and your method has measured a value of 74 ± 5 (km/s)/Mpc. Now are the values consistent? That is a question that can be quantitatively answered!\n",
    "\n",
    "In visualization of data and results, showing these errors effectively can make a plot convey much more complete information."
   ]
  },
  {
   "cell_type": "markdown",
   "id": "8804c93b",
   "metadata": {},
   "source": [
    "### Basic Errorbars\n",
    "A basic errorbar can be created with a single Matplotlib function call."
   ]
  },
  {
   "cell_type": "code",
   "execution_count": null,
   "id": "ea5e535e",
   "metadata": {},
   "outputs": [],
   "source": [
    "x = np.linspace(0, 10, 50)\n",
    "dy = 0.8\n",
    "y = np.sin(x) + dy * np.random.randn(50)\n",
    "\n",
    "plt.errorbar(x, y, yerr=dy, fmt='.k');"
   ]
  },
  {
   "cell_type": "markdown",
   "id": "c20f8b7f",
   "metadata": {},
   "source": [
    "Here the ```fmt``` is a format code controlling the appearance of lines and points, and has the same syntax as the shorthand used in ```plt.plot```, outlined in the previous tutorial.\n",
    "\n",
    "In addition to these basic options, the ```errorbar``` function has many options to fine-tune the outputs. Using these additional options, you can easily customize the aesthetics of your errorbar plot. It is often helpful, especially in crowded plots, to make the errorbars lighter than the points themselves.\n",
    "\n",
    "In addition to these options, you can also specify horizontal errorbars (xerr), one-sided errorbars, and many other variants. For more information on the options available, refer to the docstring of plt.errorbar."
   ]
  },
  {
   "cell_type": "code",
   "execution_count": null,
   "id": "0dac352c",
   "metadata": {},
   "outputs": [],
   "source": [
    "plt.errorbar(x, y, yerr=dy, fmt='o', color='black',\n",
    "             ecolor='lightgray', elinewidth=3, capsize=0);"
   ]
  },
  {
   "cell_type": "markdown",
   "id": "cd9bb78f",
   "metadata": {},
   "source": [
    "### Continuous Errors\n",
    "n some situations it is desirable to show errorbars on continuous quantities. Though Matplotlib does not have a built-in convenience routine for this type of application, it's relatively easy to combine primitives like ```plt.plot``` and ```plt.fill_between``` for a useful result.\n",
    "\n",
    "Here we'll perform a simple Gaussian process regression, using the Scikit-Learn API. This is a method of fitting a very flexible non-parametric function to data with a continuous measure of the uncertainty. We won't delve into the details of Gaussian process regression at this point, but will focus instead on how you might visualize such a continuous error measurement."
   ]
  },
  {
   "cell_type": "code",
   "execution_count": 4,
   "id": "330c08da",
   "metadata": {},
   "outputs": [],
   "source": [
    "from sklearn.gaussian_process import GaussianProcessRegressor\n",
    "from sklearn.gaussian_process.kernels import RBF, ConstantKernel as C\n",
    "\n",
    "# define the model and draw some data\n",
    "model = lambda x: x * np.sin(x)\n",
    "xdata = np.array([1, 3, 5, 6, 8])\n",
    "ydata = model(xdata)\n",
    "\n",
    "# Compute the Gaussian process fit\n",
    "kernel = C(1.0, (1e-3, 1e3)) * RBF(10, (1e-2, 1e2))\n",
    "gp = GaussianProcessRegressor(kernel=kernel, n_restarts_optimizer=10)\n",
    "gp.fit(xdata[:,np.newaxis],ydata)\n",
    "xfit = np.linspace(0,10,1000)\n",
    "yfit, sigma = gp.predict(xfit[:,np.newaxis], return_std=True)\n",
    "dyfit = 2*sigma"
   ]
  },
  {
   "cell_type": "markdown",
   "id": "c2db39e6",
   "metadata": {},
   "source": [
    "We now have ```xfit```, ```yfit```, and ```dyfit```, which sample the continuous fit to our data. We could pass these to the ```plt.errorbar``` function as above, but we don't really want to plot 1,000 points with 1,000 errorbars. Instead, we can use the ```plt.fill_between``` function with a light color to visualize this continuous error."
   ]
  },
  {
   "cell_type": "code",
   "execution_count": null,
   "id": "45c5333b",
   "metadata": {},
   "outputs": [],
   "source": [
    "# Visualize the result\n",
    "plt.plot(xdata, ydata, 'or')\n",
    "plt.plot(xfit, yfit, '-', color='gray')\n",
    "\n",
    "plt.fill_between(xfit, yfit - dyfit, yfit + dyfit,\n",
    "                 color='gray', alpha=0.2)\n",
    "plt.xlim(0, 10);"
   ]
  },
  {
   "cell_type": "markdown",
   "id": "d5c1e5b7",
   "metadata": {},
   "source": [
    "Note what we've done here with the ```fill_between``` function: we pass an x value, then the lower y-bound, then the upper y-bound, and the result is that the area between these regions is filled.\n",
    "\n",
    "The resulting figure gives a very intuitive view into what the Gaussian process regression algorithm is doing: in regions near a measured data point, the model is strongly constrained and this is reflected in the small model errors. In regions far from a measured data point, the model is not strongly constrained, and the model errors increase."
   ]
  },
  {
   "cell_type": "markdown",
   "id": "30ef6544",
   "metadata": {},
   "source": [
    "## Histogram Plots\n",
    "A simple histogram can be a great first step in understanding a dataset."
   ]
  },
  {
   "cell_type": "code",
   "execution_count": null,
   "id": "b4c22801",
   "metadata": {
    "scrolled": true
   },
   "outputs": [],
   "source": [
    "data = np.random.randn(1000)\n",
    "plt.hist(data);"
   ]
  },
  {
   "cell_type": "markdown",
   "id": "d0f47872",
   "metadata": {},
   "source": [
    "The ```hist()``` function has many options to tune both the calculation and the display. The combination of histtype='stepfilled' along with some transparency alpha is very useful when comparing histograms of several distributions"
   ]
  },
  {
   "cell_type": "code",
   "execution_count": null,
   "id": "32dfc0a9",
   "metadata": {},
   "outputs": [],
   "source": [
    "x1 = np.random.normal(0, 0.8, 1000)\n",
    "x2 = np.random.normal(-2, 1, 1000)\n",
    "x3 = np.random.normal(3, 2, 1000)\n",
    "\n",
    "kwargs = dict(histtype='stepfilled', alpha=0.3, density=True, bins=40)\n",
    "\n",
    "plt.hist(x1, **kwargs)\n",
    "plt.hist(x2, **kwargs)\n",
    "plt.hist(x3, **kwargs);"
   ]
  },
  {
   "cell_type": "markdown",
   "id": "3122bd9a",
   "metadata": {},
   "source": [
    "## Customizing Plot Legends\n",
    "Plot legends give meaning to a visualization, assigning meaning to the various plot elements. We previously saw how to create a simple legend; here we'll take a look at customizing the placement and aesthetics of the legend in Matplotlib.\n",
    "\n",
    "The simplest legend can be created with the ```plt.legend()``` command, which automatically creates a legend for any labeled plot elements. But there are many ways we might want to customize such a legend. For example, we can specify the location and turn off the frame."
   ]
  },
  {
   "cell_type": "code",
   "execution_count": null,
   "id": "26bf8e16",
   "metadata": {},
   "outputs": [],
   "source": [
    "x = np.linspace(0, 10, 1000)\n",
    "fig, ax = plt.subplots()\n",
    "ax.plot(x, np.sin(x), '-b', label='Sine')\n",
    "ax.plot(x, np.cos(x), '--r', label='Cosine')\n",
    "ax.axis('equal')\n",
    "ax.legend(loc='upper left', frameon=False);"
   ]
  },
  {
   "cell_type": "markdown",
   "id": "8fc9afa9",
   "metadata": {},
   "source": [
    "We can use the ```ncol``` command to specify the number of columns in the legend."
   ]
  },
  {
   "cell_type": "code",
   "execution_count": null,
   "id": "a99f6555",
   "metadata": {},
   "outputs": [],
   "source": [
    "ax.legend(frameon=False, loc='lower center', ncol=2)\n",
    "fig"
   ]
  },
  {
   "cell_type": "markdown",
   "id": "5f1d0623",
   "metadata": {},
   "source": [
    "We can use a rounded box (```fancybox```) or add a shadow, change the transparency (alpha value) of the frame, or change the padding around the text."
   ]
  },
  {
   "cell_type": "code",
   "execution_count": null,
   "id": "52b67e44",
   "metadata": {},
   "outputs": [],
   "source": [
    "ax.legend(fancybox=True, framealpha=1, shadow=True, borderpad=1)\n",
    "fig"
   ]
  },
  {
   "cell_type": "markdown",
   "id": "55904cc5",
   "metadata": {},
   "source": [
    "As we have already seen, the legend includes all labeled elements by default. If this is not what is desired, we can fine-tune which elements and labels appear in the legend by using the objects returned by plot commands. The ```plt.plot()``` command is able to create multiple lines at once, and returns a list of created line instances. Passing any of these to ```plt.legend()``` will tell it which to identify, along with the labels we'd like to specify."
   ]
  },
  {
   "cell_type": "code",
   "execution_count": null,
   "id": "36df7cc5",
   "metadata": {},
   "outputs": [],
   "source": [
    "y = np.sin(x[:, np.newaxis] + np.pi * np.arange(0, 2, 0.5))\n",
    "lines = plt.plot(x, y)\n",
    "\n",
    "# lines is a list of plt.Line2D instances\n",
    "plt.legend(lines[:2], ['first', 'second'],loc='upper right',frameon=True,framealpha=1);"
   ]
  },
  {
   "cell_type": "markdown",
   "id": "c59655a5",
   "metadata": {},
   "source": [
    "## Legend for Size of Points\n",
    "Sometimes the legend defaults are not sufficient for the given visualization. For example, perhaps you're using the size of points to mark certain features of the data, and want to create a legend reflecting this. Here is an example where we'll use the size of points to indicate populations of California cities. We'd like a legend that specifies the scale of the sizes of the points, and we'll accomplish this by plotting some labeled data with no entries."
   ]
  },
  {
   "cell_type": "code",
   "execution_count": null,
   "id": "1e305e5c",
   "metadata": {},
   "outputs": [],
   "source": [
    "import pandas as pd\n",
    "cities = pd.read_csv('./data/california_cities.csv')\n",
    "\n",
    "# Extract the data we're interested in\n",
    "lat, lon = cities['latd'], cities['longd']\n",
    "population, area = cities['population_total'], cities['area_total_km2']\n",
    "\n",
    "# Scatter the points, using size and color but no label\n",
    "plt.scatter(lon, lat, label=None,\n",
    "            c=np.log10(population), cmap='viridis',\n",
    "            s=area, linewidth=0, alpha=0.5)\n",
    "plt.xlabel('longitude')\n",
    "plt.ylabel('latitude')\n",
    "plt.colorbar(label='log$_{10}$(population)')\n",
    "plt.clim(3, 7)\n",
    "\n",
    "# Here we create a legend:\n",
    "# we'll plot empty lists with the desired size and label\n",
    "for area in [100, 300, 500]:\n",
    "    plt.scatter([], [], c='k', alpha=0.3, s=area,\n",
    "                label=str(area) + ' km$^2$')\n",
    "plt.legend(scatterpoints=1, frameon=False, labelspacing=1, title='City Area')\n",
    "\n",
    "plt.title('California Cities: Area and Population');"
   ]
  },
  {
   "cell_type": "markdown",
   "id": "879ba249",
   "metadata": {},
   "source": [
    "The legend will always reference some object that is on the plot, so if we'd like to display a particular shape we need to plot it. In this case, the objects we want (gray circles) are not on the plot, so we fake them by plotting empty lists. Notice too that the legend only lists plot elements that have a label specified.\n",
    "\n",
    "By plotting empty lists, we create labeled plot objects which are picked up by the legend, and now our legend tells us some useful information. This strategy can be useful for creating more sophisticated visualizations.\n",
    "\n",
    "Finally, note that for geographic data like this, it would be clearer if we could show state boundaries or other map-specific elements. For this, an excellent choice of tool is Matplotlib's Basemap addon toolkit, which we'll explore later in the next tutorial."
   ]
  },
  {
   "cell_type": "markdown",
   "id": "0562e9bb",
   "metadata": {},
   "source": [
    "## Text and Annotation\n",
    "Creating a good visualization involves guiding the reader so that the figure tells a story. In some cases, this story can be told in an entirely visual manner, without the need for added text, but in others, small textual cues and labels are necessary. Perhaps the most basic types of annotations you will use are axes labels and titles, but the options go beyond this. Let's take a look at some data and how we might visualize and annotate it to help convey interesting information.\n",
    "\n",
    "We'll use a dataset on birthdays and perform some data cleaning before illustrating text annotation.\n",
    "\n",
    "### Example: Effect of Holidays on US Births"
   ]
  },
  {
   "cell_type": "code",
   "execution_count": 13,
   "id": "27c04c24",
   "metadata": {},
   "outputs": [],
   "source": [
    "from datetime import datetime\n",
    "births = pd.read_csv('./data/births.csv')\n",
    "\n",
    "quartiles = np.percentile(births['births'], [25, 50, 75])\n",
    "mu, sig = quartiles[1], 0.74 * (quartiles[2] - quartiles[0])\n",
    "births = births.query('(births > @mu - 5 * @sig) & (births < @mu + 5 * @sig)')\n",
    "\n",
    "births['day'] = births['day'].astype(int)\n",
    "\n",
    "births.index = pd.to_datetime(10000 * births.year +\n",
    "                              100 * births.month +\n",
    "                              births.day, format='%Y%m%d')\n",
    "births_by_date = births.pivot_table('births',\n",
    "                                    [births.index.month, births.index.day])\n",
    "births_by_date.index = [datetime(2012, month, day)\n",
    "                        for (month, day) in births_by_date.index]"
   ]
  },
  {
   "cell_type": "code",
   "execution_count": null,
   "id": "8634f7eb",
   "metadata": {},
   "outputs": [],
   "source": [
    "fig, ax = plt.subplots(figsize=(12, 4))\n",
    "births_by_date.plot(ax=ax);"
   ]
  },
  {
   "cell_type": "markdown",
   "id": "ebe61134",
   "metadata": {},
   "source": [
    "When we're communicating data like this, it is often useful to annotate certain features of the plot to draw the reader's attention. This can be done manually with the ```plt.text```/```ax.text``` command, which will place text at a particular x/y value."
   ]
  },
  {
   "cell_type": "code",
   "execution_count": null,
   "id": "b27dc1a9",
   "metadata": {},
   "outputs": [],
   "source": [
    "import matplotlib as mpl\n",
    "\n",
    "fig, ax = plt.subplots(figsize=(12, 4))\n",
    "births_by_date.plot(ax=ax)\n",
    "\n",
    "# Add labels to the plot\n",
    "style = dict(size=10, color='gray')\n",
    "\n",
    "ax.text('2012-1-1', 3950, \"New Year's Day\", **style)\n",
    "ax.text('2012-7-4', 4250, \"Independence Day\", ha='center', **style)\n",
    "ax.text('2012-9-4', 4850, \"Labor Day\", ha='center', **style)\n",
    "ax.text('2012-10-31', 4600, \"Halloween\", ha='right', **style)\n",
    "ax.text('2012-11-25', 4450, \"Thanksgiving\", ha='center', **style)\n",
    "ax.text('2012-12-25', 3850, \"Christmas \", ha='right', **style)\n",
    "\n",
    "# Label the axes\n",
    "ax.set(title='USA births by day of year (1969-1988)',\n",
    "       ylabel='average daily births')\n",
    "\n",
    "# Format the x axis with centered month labels\n",
    "ax.xaxis.set_major_locator(mpl.dates.MonthLocator())\n",
    "ax.xaxis.set_minor_locator(mpl.dates.MonthLocator(bymonthday=15))\n",
    "ax.xaxis.set_major_formatter(plt.NullFormatter())\n",
    "ax.xaxis.set_minor_formatter(mpl.dates.DateFormatter('%h'));"
   ]
  },
  {
   "cell_type": "markdown",
   "id": "9d6ab98e",
   "metadata": {},
   "source": [
    "The ```ax.text``` method takes an x position, a y position, a string, and then optional keywords specifying the color, size, style, alignment, and other properties of the text. Here we used ``ha='right'`` and ```ha='center'```, where ```ha``` is short for horizonal alignment. See the docstring of ```plt.text()``` and of ```mpl.text.Text()``` for more information on available options."
   ]
  },
  {
   "cell_type": "markdown",
   "id": "57d3c33e",
   "metadata": {},
   "source": [
    "### Transforms and Text Position\n",
    "In the previous example, we have anchored our text annotations to data locations. Sometimes it's preferable to anchor the text to a position on the axes or figure, independent of the data. In Matplotlib, this is done by modifying the transform.\n",
    "\n",
    "Any graphics display framework needs some scheme for translating between coordinate systems. For example, a data point at $(x, y) = (1, 1)$ needs to somehow be represented at a certain location on the figure, which in turn needs to be represented in pixels on the screen. Mathematically, such coordinate transformations are relatively straightforward, and Matplotlib has a well-developed set of tools that it uses internally to perform them (these tools can be explored in the ```matplotlib.transforms``` submodule).\n",
    "\n",
    "The average user rarely needs to worry about the details of these transforms, but it is helpful knowledge to have when considering the placement of text on a figure. There are three pre-defined transforms that can be useful in this situation:\n",
    "\n",
    "- ```ax.transData```: Transform associated with data coordinates\n",
    "- ```ax.transAxes```: Transform associated with the axes (in units of axes dimensions)\n",
    "- ```fig.transFigure```: Transform associated with the figure (in units of figure dimensions)\n",
    "\n",
    "Let's look at an example of drawing text at various locations using these transforms.\n",
    "\n",
    "Note that by default, the text is aligned above and to the left of the specified coordinates: here the \".\" at the beginning of each string will approximately mark the given coordinate location."
   ]
  },
  {
   "cell_type": "code",
   "execution_count": null,
   "id": "fa059867",
   "metadata": {},
   "outputs": [],
   "source": [
    "fig, ax = plt.subplots(facecolor='lightgray')\n",
    "ax.axis([0, 10, 0, 10])\n",
    "\n",
    "# transform=ax.transData is the default, but we'll specify it anyway\n",
    "ax.text(1, 5, \". Data: (1, 5)\", transform=ax.transData)\n",
    "ax.text(0.5, 0.1, \". Axes: (0.5, 0.1)\", transform=ax.transAxes)\n",
    "ax.text(0.2, 0.2, \". Figure: (0.2, 0.2)\", transform=fig.transFigure);"
   ]
  },
  {
   "cell_type": "markdown",
   "id": "ad065eb6",
   "metadata": {},
   "source": [
    "The transData coordinates give the usual data coordinates associated with the x- and y-axis labels. The transAxes coordinates give the location from the bottom-left corner of the axes (here the white box), as a fraction of the axes size. The transFigure coordinates are similar, but specify the position from the bottom-left of the figure (here the gray box), as a fraction of the figure size."
   ]
  },
  {
   "cell_type": "markdown",
   "id": "236b7428",
   "metadata": {},
   "source": [
    "### Arrows and Annotations\n",
    "Along with tick marks and text, another useful annotation mark is the simple arrow.\n",
    "\n",
    "Drawing arrows in Matplotlib is often much harder than you'd bargain for. While there is a ```plt.arrow()``` function available, I wouldn't suggest using it: the arrows it creates are SVG objects that will be subject to the varying aspect ratio of your plots, and the result is rarely what the user intended. Instead, I'd suggest using the ```plt.annotate()``` function. This function creates some text and an arrow, and the arrows can be very flexibly specified. Here we'll use annotate with several of its options."
   ]
  },
  {
   "cell_type": "code",
   "execution_count": null,
   "id": "18a181ed",
   "metadata": {},
   "outputs": [],
   "source": [
    "fig, ax = plt.subplots()\n",
    "\n",
    "x = np.linspace(0, 20, 1000)\n",
    "ax.plot(x, np.cos(x))\n",
    "ax.axis('equal')\n",
    "\n",
    "ax.annotate('local maximum', xy=(6.28, 1), xytext=(10, 4),\n",
    "            arrowprops=dict(facecolor='black', shrink=0.05))\n",
    "\n",
    "ax.annotate('local minimum', xy=(5 * np.pi, -1), xytext=(2, -6),\n",
    "            arrowprops=dict(arrowstyle=\"->\",\n",
    "                            connectionstyle=\"angle3,angleA=0,angleB=-90\"));"
   ]
  },
  {
   "cell_type": "markdown",
   "id": "10877f0e",
   "metadata": {},
   "source": [
    "The arrow style is controlled through the arrowprops dictionary, which has numerous options available. These options are fairly well-documented in Matplotlib's online documentation, so rather than repeating them here it is probably more useful to quickly show some of the possibilities. Let's demonstrate several of the possible options using the birthrate plot from before."
   ]
  },
  {
   "cell_type": "code",
   "execution_count": null,
   "id": "4609a65d",
   "metadata": {},
   "outputs": [],
   "source": [
    "fig, ax = plt.subplots(figsize=(12, 4))\n",
    "births_by_date.plot(ax=ax)\n",
    "\n",
    "# Add labels to the plot\n",
    "ax.annotate(\"New Year's Day\", xy=('2012-1-1', 4100),  xycoords='data',\n",
    "            xytext=(50, -30), textcoords='offset points',\n",
    "            arrowprops=dict(arrowstyle=\"->\",\n",
    "                            connectionstyle=\"arc3,rad=-0.2\"))\n",
    "\n",
    "ax.annotate(\"Independence Day\", xy=('2012-7-4', 4250),  xycoords='data',\n",
    "            bbox=dict(boxstyle=\"round\", fc=\"none\", ec=\"gray\"),\n",
    "            xytext=(10, -40), textcoords='offset points', ha='center',\n",
    "            arrowprops=dict(arrowstyle=\"->\"))\n",
    "\n",
    "ax.annotate('Labor Day', xy=('2012-9-4', 4850), xycoords='data', ha='center',\n",
    "            xytext=(0, -20), textcoords='offset points')\n",
    "ax.annotate('', xy=('2012-9-1', 4850), xytext=('2012-9-7', 4850),\n",
    "            xycoords='data', textcoords='data',\n",
    "            arrowprops={'arrowstyle': '|-|,widthA=0.2,widthB=0.2', })\n",
    "\n",
    "ax.annotate('Halloween', xy=('2012-10-31', 4600),  xycoords='data',\n",
    "            xytext=(-80, -40), textcoords='offset points',\n",
    "            arrowprops=dict(arrowstyle=\"fancy\",\n",
    "                            fc=\"0.6\", ec=\"none\",\n",
    "                            connectionstyle=\"angle3,angleA=0,angleB=-90\"))\n",
    "\n",
    "ax.annotate('Thanksgiving', xy=('2012-11-25', 4500),  xycoords='data',\n",
    "            xytext=(-120, -60), textcoords='offset points',\n",
    "            bbox=dict(boxstyle=\"round4,pad=.5\", fc=\"0.9\"),\n",
    "            arrowprops=dict(arrowstyle=\"->\",\n",
    "                            connectionstyle=\"angle,angleA=0,angleB=80,rad=20\"))\n",
    "\n",
    "\n",
    "ax.annotate('Christmas', xy=('2012-12-25', 3850),  xycoords='data',\n",
    "             xytext=(-30, 0), textcoords='offset points',\n",
    "             size=13, ha='right', va=\"center\",\n",
    "             bbox=dict(boxstyle=\"round\", alpha=0.1),\n",
    "             arrowprops=dict(arrowstyle=\"wedge,tail_width=0.5\", alpha=0.1));\n",
    "\n",
    "# Label the axes\n",
    "ax.set(title='USA births by day of year (1969-1988)',\n",
    "       ylabel='average daily births')\n",
    "\n",
    "# Format the x axis with centered month labels\n",
    "ax.xaxis.set_major_locator(mpl.dates.MonthLocator())\n",
    "ax.xaxis.set_minor_locator(mpl.dates.MonthLocator(bymonthday=15))\n",
    "ax.xaxis.set_major_formatter(plt.NullFormatter())\n",
    "ax.xaxis.set_minor_formatter(mpl.dates.DateFormatter('%h'));\n",
    "\n",
    "ax.set_ylim(3600, 5400);"
   ]
  },
  {
   "cell_type": "markdown",
   "id": "fc388c9e",
   "metadata": {},
   "source": [
    "You'll notice that the specifications of the arrows and text boxes are very detailed: this gives you the power to create nearly any arrow style you wish. Unfortunately, it also means that these sorts of features often must be manually tweaked, a process that can be very time consuming when producing publication-quality graphics! Finally, I'll note that the preceding mix of styles is by no means best practice for presenting data, but rather included as a demonstration of some of the available options."
   ]
  }
 ],
 "metadata": {
  "kernelspec": {
   "display_name": "Python 3",
   "language": "python",
   "name": "python3"
  },
  "language_info": {
   "codemirror_mode": {
    "name": "ipython",
    "version": 3
   },
   "file_extension": ".py",
   "mimetype": "text/x-python",
   "name": "python",
   "nbconvert_exporter": "python",
   "pygments_lexer": "ipython3",
   "version": "3.12.1"
  }
 },
 "nbformat": 4,
 "nbformat_minor": 5
}
