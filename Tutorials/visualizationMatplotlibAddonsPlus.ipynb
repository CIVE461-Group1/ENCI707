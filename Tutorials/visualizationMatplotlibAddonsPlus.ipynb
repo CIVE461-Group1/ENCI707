{
 "cells": [
  {
   "cell_type": "markdown",
   "id": "307276c1",
   "metadata": {},
   "source": [
    "# Matplotlib Add-Ons and Other Advanced Functions\n",
    "\n",
    "We'll now explore some of the add-ons and other advanced features of Matplotlib"
   ]
  },
  {
   "cell_type": "code",
   "execution_count": 24,
   "id": "005c02d8",
   "metadata": {},
   "outputs": [],
   "source": [
    "%matplotlib inline\n",
    "import matplotlib.pyplot as plt\n",
    "plt.style.use('seaborn-v0_8-whitegrid')\n",
    "import numpy as np\n",
    "import pandas as pd\n",
    "from mpl_toolkits import mplot3d"
   ]
  },
  {
   "cell_type": "markdown",
   "id": "4be8c802",
   "metadata": {},
   "source": [
    "## Three-Dimensional Plotting in Matplotlib\n",
    "Matplotlib was initially designed with only two-dimensional plotting in mind. Around the time of the 1.0 release, some three-dimensional plotting utilities were built on top of Matplotlib's two-dimensional display, and the result is a convenient (if somewhat limited) set of tools for three-dimensional data visualization. three-dimensional plots are enabled by importing the ```mplot3d``` toolkit, included with the main Matplotlib installation.\n",
    "\n",
    "Once this submodule is imported, a three-dimensional axes can be created by passing the keyword ```projection='3d'``` to any of the normal axes creation routines."
   ]
  },
  {
   "cell_type": "code",
   "execution_count": null,
   "id": "efa9ac38",
   "metadata": {},
   "outputs": [],
   "source": [
    "fig = plt.figure()\n",
    "ax = plt.axes(projection='3d')"
   ]
  },
  {
   "cell_type": "markdown",
   "id": "27958fd7",
   "metadata": {},
   "source": [
    "With this three-dimensional axes enabled, we can now plot a variety of three-dimensional plot types. Three-dimensional plotting is one of the functionalities that benefits immensely from viewing figures interactively rather than statically in the notebook; recall that to use interactive figures, you can use ```%matplotlib notebook``` rather than ```%matplotlib inline``` when running this code."
   ]
  },
  {
   "cell_type": "markdown",
   "id": "68ac1b34",
   "metadata": {},
   "source": [
    "### Three-dimensional Points and Lines\n",
    "The most basic three-dimensional plot is a line or collection of scatter plots created from sets of (x, y, z) triples. In analogy with the more common two-dimensional plots discussed earlier, these can be created using the ```ax.plot3D``` and ```ax.scatter3D``` functions. The call signature for these is nearly identical to that of their two-dimensional counterparts, so you can refer to earlier tutorials for more information on controlling the output. Here we'll plot a trigonometric spiral, along with some points drawn randomly near the line."
   ]
  },
  {
   "cell_type": "code",
   "execution_count": null,
   "id": "aee8597a",
   "metadata": {},
   "outputs": [],
   "source": [
    "%matplotlib notebook\n",
    "ax = plt.axes(projection='3d')\n",
    "\n",
    "# Data for a three-dimensional line\n",
    "zline = np.linspace(0, 15, 1000)\n",
    "xline = np.sin(zline)\n",
    "yline = np.cos(zline)\n",
    "ax.plot3D(xline, yline, zline, 'gray')\n",
    "\n",
    "# Data for three-dimensional scattered points\n",
    "zdata = 15 * np.random.random(100)\n",
    "xdata = np.sin(zdata) + 0.1 * np.random.randn(100)\n",
    "ydata = np.cos(zdata) + 0.1 * np.random.randn(100)\n",
    "ax.scatter3D(xdata, ydata, zdata, c=zdata, cmap='Greens');"
   ]
  },
  {
   "cell_type": "markdown",
   "id": "a24ea8a3",
   "metadata": {},
   "source": [
    "Notice that by default, the scatter points have their transparency adjusted to give a sense of depth on the page. While the three-dimensional effect is sometimes difficult to see within a static image, an interactive view can lead to some nice intuition about the layout of the points."
   ]
  },
  {
   "cell_type": "markdown",
   "id": "df03c0a6",
   "metadata": {},
   "source": [
    "### Three-dimensional Contour Plots\n",
    "Analogous to two-dimensional contour plots, mplot3d contains tools to create three-dimensional relief plots using the same inputs. Like two-dimensional ```ax.contour``` plots (see Matplotlib documentation for details on this plot function), ```ax.contour3D``` requires all the input data to be in the form of two-dimensional regular grids, with the Z data evaluated at each point. Here we'll show a three-dimensional contour diagram of a three-dimensional sinusoidal function."
   ]
  },
  {
   "cell_type": "code",
   "execution_count": null,
   "id": "6fd59cd3",
   "metadata": {},
   "outputs": [],
   "source": [
    "def f(x, y):\n",
    "    return np.sin(np.sqrt(x ** 2 + y ** 2))\n",
    "\n",
    "x = np.linspace(-6, 6, 30)\n",
    "y = np.linspace(-6, 6, 30)\n",
    "\n",
    "X, Y = np.meshgrid(x, y)\n",
    "Z = f(X, Y)\n",
    "\n",
    "fig = plt.figure()\n",
    "ax = plt.axes(projection='3d')\n",
    "ax.contour3D(X, Y, Z, 50, cmap='binary')\n",
    "ax.set_xlabel('x')\n",
    "ax.set_ylabel('y')\n",
    "ax.set_zlabel('z');"
   ]
  },
  {
   "cell_type": "markdown",
   "id": "ecd27c3d",
   "metadata": {},
   "source": [
    "## Visualization with Seaborn\n",
    "Matplotlib has proven to be an incredibly useful and popular visualization tool, but even avid users will admit it often leaves much to be desired. There are several valid complaints about Matplotlib that often come up:\n",
    "- Prior to version 2.0, Matplotlib's defaults are not exactly the best choices. It was based off of MATLAB circa 1999, and this often shows.\n",
    "- Matplotlib's API is relatively low level. Doing sophisticated statistical visualization is possible, but often requires a lot of boilerplate code.\n",
    "- Matplotlib predated Pandas by more than a decade, and thus is not designed for use with Pandas ```DataFrames```. In order to visualize data from a Pandas ```DataFrame```, you must extract each Series and often concatenate them together into the right format. It would be nicer to have a plotting library that can intelligently use the ```DataFrame``` labels in a plot.\n",
    "\n",
    "An answer to these problems is [Seaborn](http://seaborn.pydata.org/). Seaborn provides an API on top of Matplotlib that offers sane choices for plot style and color defaults, defines simple high-level functions for common statistical plot types, and integrates with the functionality provided by Pandas ```DataFrames```."
   ]
  },
  {
   "cell_type": "markdown",
   "id": "c9db7645",
   "metadata": {},
   "source": [
    "### Seaborn versus Matplotlib\n",
    "Here is an example of a simple random-walk plot in Matplotlib, using its classic plot formatting and colors. We start with the typical imports."
   ]
  },
  {
   "cell_type": "code",
   "execution_count": null,
   "id": "14a8d2a1",
   "metadata": {
    "scrolled": true
   },
   "outputs": [],
   "source": [
    "plt.style.use('classic')\n",
    "%matplotlib inline\n",
    "\n",
    "# Create some data\n",
    "rng = np.random.RandomState(0)\n",
    "x = np.linspace(0, 10, 500)\n",
    "y = np.cumsum(rng.randn(500, 6), 0)\n",
    "\n",
    "# Plot the data with Matplotlib defaults\n",
    "plt.plot(x, y)\n",
    "plt.legend('ABCDEF', ncol=2, loc='upper left');"
   ]
  },
  {
   "cell_type": "markdown",
   "id": "b238a9f7",
   "metadata": {},
   "source": [
    "Now let's take a look at how it works with Seaborn. As we will see, Seaborn has many of its own high-level plotting routines, but it can also overwrite Matplotlib's default parameters and in turn get even simple Matplotlib scripts to produce vastly superior output. "
   ]
  },
  {
   "cell_type": "code",
   "execution_count": null,
   "id": "116c657a",
   "metadata": {},
   "outputs": [],
   "source": [
    "import seaborn as sns\n",
    "sns.set()\n",
    "\n",
    "# same plotting code as above!\n",
    "plt.plot(x, y)\n",
    "plt.legend('ABCDEF', ncol=2, loc='upper left');"
   ]
  },
  {
   "cell_type": "markdown",
   "id": "4a15f75d",
   "metadata": {},
   "source": [
    "### Histograms, kernal density estimation, and densities"
   ]
  },
  {
   "cell_type": "code",
   "execution_count": null,
   "id": "268b86ca",
   "metadata": {
    "scrolled": true
   },
   "outputs": [],
   "source": [
    "data = np.random.multivariate_normal([0, 0], [[5, 2], [2, 2]], size=2000)\n",
    "data = pd.DataFrame(data, columns=['x', 'y'])\n",
    "\n",
    "for col in 'xy':\n",
    "    plt.hist(data[col], density=True, alpha=0.5)"
   ]
  },
  {
   "cell_type": "markdown",
   "id": "bf72db78",
   "metadata": {},
   "source": [
    "Rather than a histogram, we can get a smooth estimate of the distribution using a kernel density estimation, which Seaborn does with ```sns.kdeplot```."
   ]
  },
  {
   "cell_type": "code",
   "execution_count": null,
   "id": "46358f41",
   "metadata": {},
   "outputs": [],
   "source": [
    "for col in 'xy':\n",
    "    sns.kdeplot(data[col], shade=True)"
   ]
  },
  {
   "cell_type": "markdown",
   "id": "57c93942",
   "metadata": {},
   "source": [
    "Histograms and KDE can be combined using ```distplot```."
   ]
  },
  {
   "cell_type": "code",
   "execution_count": null,
   "id": "410817ba",
   "metadata": {},
   "outputs": [],
   "source": [
    "sns.histplot(data['x'],kde=True, stat=\"density\")\n",
    "sns.histplot(data['y'],kde=True, stat=\"density\");"
   ]
  },
  {
   "cell_type": "markdown",
   "id": "2a27549b",
   "metadata": {},
   "source": [
    "### Example: Exploring Marathon Finishing Times\n",
    "Here we'll look at using Seaborn to help visualize and understand finishing results from a marathon. We'll use data scraped by Jake VanderPlas from sources on the Web - he aggregated and removed any identifying information. By default, Pandas will load the time columns as Python strings (type ```object```). Let's fix this by providing a converter for the times."
   ]
  },
  {
   "cell_type": "code",
   "execution_count": null,
   "id": "962101b9",
   "metadata": {},
   "outputs": [],
   "source": [
    "from datetime import timedelta\n",
    "\n",
    "def convert_time(s):\n",
    "    h, m, s = map(int, s.split(':'))\n",
    "    return timedelta(hours=h, minutes=m, seconds=s)\n",
    "\n",
    "data = pd.read_csv('./data/marathon-data.csv',\n",
    "                   converters={'split':convert_time, 'final':convert_time})\n",
    "data.head()"
   ]
  },
  {
   "cell_type": "markdown",
   "id": "4ddef2ea",
   "metadata": {},
   "source": [
    "For the purpose of our Seaborn plotting utilities, let's next add columns that give the times in seconds."
   ]
  },
  {
   "cell_type": "code",
   "execution_count": null,
   "id": "5f38d52f",
   "metadata": {},
   "outputs": [],
   "source": [
    "data['split_sec'] = data['split'].view(np.int64) / 1e9\n",
    "data['final_sec'] = data['final'].view(np.int64) / 1e9\n",
    "data.head()"
   ]
  },
  {
   "cell_type": "markdown",
   "id": "cdc6df4a",
   "metadata": {},
   "source": [
    "To get an idea of what the data looks like, we can plot a ```jointplot``` over the data."
   ]
  },
  {
   "cell_type": "code",
   "execution_count": null,
   "id": "7240e111",
   "metadata": {},
   "outputs": [],
   "source": [
    "with sns.axes_style('white'):\n",
    "    g = sns.jointplot(x=\"split_sec\", y=\"final_sec\", data=data, kind='hex')\n",
    "    g.ax_joint.plot(np.linspace(4000, 16000),\n",
    "                    np.linspace(8000, 32000), ':k')"
   ]
  },
  {
   "cell_type": "markdown",
   "id": "3645f6fd",
   "metadata": {},
   "source": [
    "The dotted line shows where someone's time would lie if they ran the marathon at a perfectly steady pace. The fact that the distribution lies above this indicates (as you might expect) that most people slow down over the course of the marathon. If you have run competitively, you'll know that those who do the opposite—run faster during the second half of the race—are said to have \"negative-split\" the race.\n",
    "\n",
    "Let's create another column in the data, the split fraction, which measures the degree to which each runner negative-splits or positive-splits the race."
   ]
  },
  {
   "cell_type": "code",
   "execution_count": null,
   "id": "a8feaa12",
   "metadata": {},
   "outputs": [],
   "source": [
    "data['split_frac'] = 1 - 2 * data['split_sec'] / data['final_sec']\n",
    "data.head()"
   ]
  },
  {
   "cell_type": "markdown",
   "id": "19acc1cf",
   "metadata": {},
   "source": [
    "Where this split difference is less than zero, the person negative-split the race by that fraction. Let's do a distribution plot of this split fraction."
   ]
  },
  {
   "cell_type": "code",
   "execution_count": null,
   "id": "2be2f022",
   "metadata": {},
   "outputs": [],
   "source": [
    "sns.histplot(data['split_frac'], kde=False);\n",
    "plt.axvline(0, color=\"k\", linestyle=\"--\");"
   ]
  },
  {
   "cell_type": "code",
   "execution_count": null,
   "id": "676c2f8d",
   "metadata": {},
   "outputs": [],
   "source": [
    "sum(data.split_frac < 0)"
   ]
  },
  {
   "cell_type": "markdown",
   "id": "0697280d",
   "metadata": {},
   "source": [
    "Out of nearly 40,000 participants, there were only 250 people who negative-split their marathon.\n",
    "\n",
    "Let's see whether there is any correlation between this split fraction and other variables. We'll do this using a ```pairgrid```, which draws plots of all these correlations."
   ]
  },
  {
   "cell_type": "code",
   "execution_count": null,
   "id": "62839abf",
   "metadata": {},
   "outputs": [],
   "source": [
    "g = sns.PairGrid(data, vars=['age', 'split_sec', 'final_sec', 'split_frac'],\n",
    "                 hue='gender', palette='RdBu_r')\n",
    "g.map(plt.scatter, alpha=0.8)\n",
    "g.add_legend();"
   ]
  },
  {
   "cell_type": "markdown",
   "id": "bee4bceb",
   "metadata": {},
   "source": [
    "It looks like the split fraction does not correlate particularly with age, but does correlate with the final time: faster runners tend to have closer to even splits on their marathon time. (We see here that Seaborn is no panacea for Matplotlib's ills when it comes to plot styles: in particular, the x-axis labels overlap. However, because the output is a simple Matplotlib plot, Matplotlib functions can be used to adjust the ticks, if desired.)\n",
    "\n",
    "The difference between men and women here is interesting. Let's look at the histogram of split fractions for these two groups."
   ]
  },
  {
   "cell_type": "code",
   "execution_count": null,
   "id": "a3e83a22",
   "metadata": {},
   "outputs": [],
   "source": [
    "sns.kdeplot(data.split_frac[data.gender=='M'], label='men', shade=True, color='b')\n",
    "sns.kdeplot(data.split_frac[data.gender=='W'], label='women', shade=True, color='g')\n",
    "plt.xlabel('split_frac');\n",
    "plt.legend()"
   ]
  },
  {
   "cell_type": "markdown",
   "id": "4f50c742",
   "metadata": {},
   "source": [
    "The interesting thing here is that there are more men than women who are running close to an even split. This almost looks like some kind of bimodal distribution among the men and women. Let's see if we can suss-out what's going on by looking at the distributions as a function of age.\n",
    "\n",
    "A nice way to compare distributions is to use a violin plot."
   ]
  },
  {
   "cell_type": "code",
   "execution_count": null,
   "id": "f96da0f1",
   "metadata": {},
   "outputs": [],
   "source": [
    "sns.violinplot(x=\"gender\", y=\"split_frac\", data=data,\n",
    "               palette=[\"lightblue\", \"lightpink\"]);"
   ]
  },
  {
   "cell_type": "markdown",
   "id": "2b79d4e9",
   "metadata": {},
   "source": [
    "Let's look a little deeper, and compare these violin plots as a function of age. We'll start by creating a new column in the array that specifies the decadal age for each person."
   ]
  },
  {
   "cell_type": "code",
   "execution_count": null,
   "id": "36394961",
   "metadata": {},
   "outputs": [],
   "source": [
    "data['age_dec'] = data.age.map(lambda age: 10 * (age // 10))\n",
    "data.head()"
   ]
  },
  {
   "cell_type": "code",
   "execution_count": null,
   "id": "9bbdc85c",
   "metadata": {},
   "outputs": [],
   "source": [
    "men = (data.gender == 'M')\n",
    "women = (data.gender == 'W')\n",
    "\n",
    "with sns.axes_style(style=None):\n",
    "    sns.violinplot(x=\"age_dec\", y=\"split_frac\", hue=\"gender\", data=data,\n",
    "                   split=True, inner=\"quartile\",\n",
    "                   palette=[\"lightblue\", \"lightpink\"]);"
   ]
  },
  {
   "cell_type": "markdown",
   "id": "50b66831",
   "metadata": {},
   "source": [
    "Looking at this, we can see where the distributions of men and women differ: the split distributions of men in their 20s to 50s show a pronounced over-density toward lower splits when compared to women of the same age (or of any age, for that matter).\n",
    "\n",
    "Also surprisingly, the 80-year-old women seem to outperform everyone in terms of their split time. This is probably due to the fact that we're estimating the distribution from small numbers, as there are only a handful of runners in that range."
   ]
  },
  {
   "cell_type": "code",
   "execution_count": null,
   "id": "39e269ad",
   "metadata": {},
   "outputs": [],
   "source": [
    "(data.age > 80).sum()"
   ]
  },
  {
   "cell_type": "markdown",
   "id": "eef23cdb",
   "metadata": {},
   "source": [
    "Back to the men with negative splits: who are these runners? Does this split fraction correlate with finishing quickly? We can plot this very easily. We'll use ```regplot```, which will automatically fit a linear regression to the data."
   ]
  },
  {
   "cell_type": "code",
   "execution_count": null,
   "id": "9e9f5968",
   "metadata": {},
   "outputs": [],
   "source": [
    "g = sns.lmplot(x='final_sec', y='split_frac', col='gender', data=data,\n",
    "               markers=\".\", scatter_kws=dict(color='c'))\n",
    "g.map(plt.axhline, y=0.1, color=\"k\", ls=\":\"); # add a horizontal line to define a split_fract threshold at 0.1"
   ]
  },
  {
   "cell_type": "markdown",
   "id": "173a1f7d",
   "metadata": {},
   "source": [
    "Apparently the people with fast splits are the elite runners who are finishing within ~15,000 seconds, or about 4 hours. People slower than that are much less likely to have a fast second split."
   ]
  },
  {
   "cell_type": "markdown",
   "id": "ac33a2cd",
   "metadata": {},
   "source": [
    "## Geographic Data with Basemap\n",
    "\n",
    "One common type of visualization in data science is that of geographic data. Matplotlib's main tool for this type of visualization is the Basemap toolkit, which is one of several Matplotlib toolkits which lives under the ```mpl_toolkits``` namespace.\n",
    "\n",
    "We'll use BaseMape to re-examine the California cities dataset from the previous tutorial."
   ]
  },
  {
   "cell_type": "code",
   "execution_count": null,
   "id": "4c4a6fdf",
   "metadata": {},
   "outputs": [],
   "source": [
    "from mpl_toolkits.basemap import Basemap # You'll need to use basemap and basemap-data-hires\n",
    "\n",
    "cities = pd.read_csv('./data/california_cities.csv')\n",
    "\n",
    "# Extract the data we're interested in\n",
    "lat = cities['latd'].values\n",
    "lon = cities['longd'].values\n",
    "population = cities['population_total'].values\n",
    "area = cities['area_total_km2'].values"
   ]
  },
  {
   "cell_type": "markdown",
   "id": "9f5d2b5e",
   "metadata": {},
   "source": [
    "Next, we set up the map projection, scatter the data, and then create a colorbar and legend. The first thing to decide when using maps is what projection to use. \n",
    "\n",
    "It is impossible to project a spherical map, such as that of the Earth, onto a flat surface without somehow distorting it or breaking its continuity. Projections have been developed over the course of human history, and there are a lot of choices! Depending on the intended use of the map projection, there are certain map features (e.g., direction, area, distance, shape, or other considerations) that are useful to maintain.\n",
    "\n",
    "The Basemap package implements several dozen such projections, all referenced by a short format code. "
   ]
  },
  {
   "cell_type": "code",
   "execution_count": null,
   "id": "f64f9ab7",
   "metadata": {},
   "outputs": [],
   "source": [
    "# 1. Draw the map background\n",
    "fig = plt.figure(figsize=(8, 8))\n",
    "m = Basemap(projection='lcc', resolution='h', \n",
    "            lat_0=37.5, lon_0=-119,\n",
    "            width=1e6, height=1.2e6)\n",
    "m.shadedrelief()\n",
    "m.drawcoastlines(color='gray')\n",
    "m.drawcountries(color='gray')\n",
    "m.drawstates(color='gray')\n",
    "\n",
    "# 2. scatter city data, with color reflecting population\n",
    "# and size reflecting area\n",
    "m.scatter(lon, lat, latlon=True,\n",
    "          c=np.log10(population), s=area,\n",
    "          cmap='Reds', alpha=0.5)\n",
    "\n",
    "# 3. create colorbar and legend\n",
    "plt.colorbar(label=r'$\\log_{10}({\\rm population})$')\n",
    "plt.clim(3, 7)\n",
    "\n",
    "# make legend with dummy points\n",
    "for a in [100, 300, 500]:\n",
    "    plt.scatter([], [], c='k', alpha=0.5, s=a,\n",
    "                label=str(a) + ' km$^2$')\n",
    "plt.legend(scatterpoints=1, frameon=False,\n",
    "           labelspacing=1, loc='lower left');"
   ]
  },
  {
   "cell_type": "markdown",
   "id": "6863b19e",
   "metadata": {},
   "source": [
    "This shows us roughly where larger populations of people have settled in California: they are clustered near the coast in the Los Angeles and San Francisco areas, stretched along the highways in the flat central valley, and avoiding almost completely the mountainous regions along the borders of the state."
   ]
  }
 ],
 "metadata": {
  "kernelspec": {
   "display_name": "Python 3",
   "language": "python",
   "name": "python3"
  },
  "language_info": {
   "codemirror_mode": {
    "name": "ipython",
    "version": 3
   },
   "file_extension": ".py",
   "mimetype": "text/x-python",
   "name": "python",
   "nbconvert_exporter": "python",
   "pygments_lexer": "ipython3",
   "version": "3.12.1"
  }
 },
 "nbformat": 4,
 "nbformat_minor": 5
}
