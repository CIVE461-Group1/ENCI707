{
 "cells": [
  {
   "cell_type": "markdown",
   "metadata": {},
   "source": [
    "# My First Logit Model\n",
    "This tutorial will give you through the process of creating and estimating a discrete choice model using the Python package Biogeme. Thank you to Professor Michel Bierlaire of EPFL for making his data, code, and examples available for public use.\n",
    "\n",
    "Your first task is to install Python on your computer for use of the Biogeme package. This can be downloaded as an executable file from the Python website for Windows and Mac machines (Linux comes preloaded with Python). You will need to install Python version 3.7+ for the easiest installation of Biogeme.\n",
    "\n",
    "# Basic Biogeme Script\n",
    "The first step is to import the necessary packages: Pandas, Biogeme, and headers."
   ]
  },
  {
   "cell_type": "code",
   "execution_count": 1,
   "metadata": {},
   "outputs": [],
   "source": [
    "import pandas as pd\n",
    "import biogeme.database as db\n",
    "import biogeme.biogeme as bio\n",
    "import biogeme.models as models\n",
    "from biogeme.expressions import Beta, Variable, Derive"
   ]
  },
  {
   "cell_type": "markdown",
   "metadata": {},
   "source": [
    "The next step is to import the estimation data. Biogeme was recently updated to use the excellent package Pandas for data preparation. I import the swissmetro data as a Pandas table, then add it as a database within the internal Biogeme code structure. We can view the first few rows of the data using the command: ```database.data.head()```"
   ]
  },
  {
   "cell_type": "code",
   "execution_count": null,
   "metadata": {
    "scrolled": true
   },
   "outputs": [],
   "source": [
    "pandas = pd.read_csv(\"./data/swissmetro.dat\", sep=\"\\t\")\n",
    "database = db.Database(\"swissmetro\",pandas)\n",
    "\n",
    "PURPOSE = Variable('PURPOSE')\n",
    "CHOICE = Variable('CHOICE')\n",
    "GA = Variable('GA')\n",
    "TRAIN_CO = Variable('TRAIN_CO')\n",
    "CAR_AV = Variable('CAR_AV')\n",
    "SP = Variable('SP')\n",
    "TRAIN_AV = Variable('TRAIN_AV')\n",
    "TRAIN_TT = Variable('TRAIN_TT')\n",
    "SM_TT = Variable('SM_TT')\n",
    "CAR_TT = Variable('CAR_TT')\n",
    "CAR_CO = Variable('CAR_CO')\n",
    "SM_CO = Variable('SM_CO')\n",
    "SM_AV = Variable('SM_AV')\n",
    "\n",
    "database.data.head()"
   ]
  },
  {
   "cell_type": "markdown",
   "metadata": {},
   "source": [
    "Removing some observations can be done directly using pandas."
   ]
  },
  {
   "cell_type": "code",
   "execution_count": null,
   "metadata": {
    "scrolled": true
   },
   "outputs": [],
   "source": [
    "print(\"Size of df before removals: \", database.data.shape)\n",
    "remove = (((database.data.PURPOSE != 1) & (database.data.PURPOSE != 3)) | (database.data.CHOICE == 0))\n",
    "database.data.drop(database.data[remove].index,inplace=True)\n",
    "print(\"Size of df after removals: \", database.data.shape)"
   ]
  },
  {
   "cell_type": "markdown",
   "metadata": {},
   "source": [
    "We can then define the names and starting values for the model parameters. There are 5 parameters defined for the base Swiss Metro model. Biogeme uses a constrained optimization to reduce the search space. The Beta function is called as follows:\n",
    "```python\n",
    "Beta(parameter name AS str, initial value AS int, lower bound AS int, upper bound AS int, fixed AS int)\n",
    "```\n",
    "If there are no bounds on the parameter search space, the use may enter: ```None```. A value of ```0``` for the ```fixed``` parameter will allow Biogeme to estimate the parameter. In this case, we have only fixed the ASC for the swiss metro mode, to maintain model indentification."
   ]
  },
  {
   "cell_type": "code",
   "execution_count": 4,
   "metadata": {},
   "outputs": [],
   "source": [
    "ASC_CAR = Beta('ASC_CAR',0,None,None,0)\n",
    "ASC_TRAIN = Beta('ASC_TRAIN',0,None,None,0)\n",
    "ASC_SM = Beta('ASC_SM',0,None,None,1)\n",
    "B_TIME = Beta('B_TIME',0,None,None,0)\n",
    "B_COST = Beta('B_COST',0,None,None,0)"
   ]
  },
  {
   "cell_type": "markdown",
   "metadata": {},
   "source": [
    "We can then define the corresponding variables used in the model. Biogeme has an internal set of functions that are used in the definition of variables. The user can scale a variable value or modify its value using boolean logic."
   ]
  },
  {
   "cell_type": "code",
   "execution_count": 5,
   "metadata": {},
   "outputs": [],
   "source": [
    "# Definition of new variables\n",
    "SM_COST = SM_CO * (GA == 0)\n",
    "TRAIN_COST = TRAIN_CO * (GA == 0)\n",
    "CAR_AV_SP = CAR_AV * (SP != 0)\n",
    "TRAIN_AV_SP = TRAIN_AV * (SP != 0)\n",
    "TRAIN_TT_SCALED = TRAIN_TT / 100\n",
    "TRAIN_COST_SCALED = TRAIN_COST / 100\n",
    "SM_TT_SCALED = SM_TT / 100\n",
    "SM_COST_SCALED = SM_COST / 100\n",
    "CAR_TT_SCALED = CAR_TT / 100\n",
    "CAR_CO_SCALED = CAR_CO / 100"
   ]
  },
  {
   "cell_type": "markdown",
   "metadata": {},
   "source": [
    "The next step is to define the utility function for each alternative mode."
   ]
  },
  {
   "cell_type": "code",
   "execution_count": 6,
   "metadata": {},
   "outputs": [],
   "source": [
    "V1 = ASC_TRAIN + \\\n",
    "     B_TIME * TRAIN_TT_SCALED + \\\n",
    "     B_COST * TRAIN_COST_SCALED\n",
    "V2 = ASC_SM + \\\n",
    "     B_TIME * SM_TT_SCALED + \\\n",
    "     B_COST * SM_COST_SCALED\n",
    "V3 = ASC_CAR + \\\n",
    "     B_TIME * CAR_TT_SCALED + \\\n",
    "     B_COST * CAR_CO_SCALED"
   ]
  },
  {
   "cell_type": "markdown",
   "metadata": {},
   "source": [
    "Biogeme has a variety of built-in discrete choice models, which the user can leverage. However, it also allows the user to define their own likelihood function if it is not available in the built-in model library. In this case, we use the built-in ```bioLogLogit``` function to estimate the model."
   ]
  },
  {
   "cell_type": "code",
   "execution_count": null,
   "metadata": {},
   "outputs": [],
   "source": [
    "# Associate utility functions with the numbering of alternatives\n",
    "V = {1: V1,\n",
    "     2: V2,\n",
    "     3: V3}\n",
    "\n",
    "# Associate the availability conditions with the alternatives\n",
    "\n",
    "av = {1: TRAIN_AV_SP,\n",
    "      2: SM_AV,\n",
    "      3: CAR_AV_SP}\n",
    "\n",
    "# Definition of the model. This is the contribution of each\n",
    "# observation to the log likelihood function.\n",
    "logprob = models.loglogit(V, av, CHOICE)\n",
    "\n",
    "# Create the Biogeme object\n",
    "biogeme = bio.BIOGEME(database, logprob)\n",
    "biogeme.modelName = '01logit'\n",
    "\n",
    "# Calculate the null log likelihood for reporting.\n",
    "biogeme.calculateNullLoglikelihood(av)\n",
    "\n",
    "# Estimate the parameters\n",
    "results = biogeme.estimate()"
   ]
  },
  {
   "cell_type": "markdown",
   "metadata": {},
   "source": [
    "The results of the model estimation can then be printed to the terminal."
   ]
  },
  {
   "cell_type": "code",
   "execution_count": null,
   "metadata": {
    "scrolled": true
   },
   "outputs": [],
   "source": [
    "# Print the estimated values\n",
    "betas = results.getBetaValues()\n",
    "for k,v in betas.items():\n",
    "    print(f\"{k}=\\t{v:.3g}\")\n",
    "\n",
    "# Get the results in a pandas table\n",
    "pandasResults = results.getEstimatedParameters()\n",
    "print(pandasResults)"
   ]
  },
  {
   "cell_type": "markdown",
   "metadata": {},
   "source": [
    "Biogeme also includes functionalities to compute elasticties for model variables. The elasticity can be calculated directly by the user, but Biogeme also includes functions for calculating derivatives for the user."
   ]
  },
  {
   "cell_type": "code",
   "execution_count": 9,
   "metadata": {},
   "outputs": [],
   "source": [
    "# The choice model is a logit, with availability conditions\n",
    "prob1 = models.logit(V, av, 1)\n",
    "prob2 = models.logit(V, av, 2)\n",
    "prob3 = models.logit(V, av, 3)\n",
    "\n",
    "ASC_CAR = Beta('ASC_CAR',betas['ASC_CAR'],None,None,0)\n",
    "ASC_TRAIN = Beta('ASC_TRAIN',betas['ASC_TRAIN'],None,None,0)\n",
    "B_TIME = Beta('B_TIME',betas['B_TIME'],None,None,0)\n",
    "B_COST = Beta('B_COST',betas['B_COST'],None,None,0)"
   ]
  },
  {
   "cell_type": "markdown",
   "metadata": {},
   "source": [
    "We can then calculate the set of elasticities.\n",
    "\n",
    "Elasticities can be computed. We illustrate below two formulas. Check in the output file that they produce the same result.\n",
    "\n",
    "First, the general definition of elasticities. This illustrates the use of the Derive expression, and can be used with any model, however complicated it is. Note the quotes in the Derive operator."
   ]
  },
  {
   "cell_type": "code",
   "execution_count": null,
   "metadata": {},
   "outputs": [],
   "source": [
    "genelas1 = Derive(prob1,'TRAIN_TT') * TRAIN_TT / prob1\n",
    "genelas2 = Derive(prob2,'SM_TT') * SM_TT / prob2\n",
    "genelas3 = Derive(prob3,'CAR_TT') * CAR_TT / prob3\n",
    "\n",
    "print(genelas1)"
   ]
  },
  {
   "cell_type": "markdown",
   "metadata": {},
   "source": [
    "Second, the elasticity of logit models. See Ben-Akiva and Lerman for the formula.\n",
    "\n",
    "We can then complete the process using the .simulate() function. This will calculate the probabilities and elasticities for each observation. The Pandas .describe() function is useful to print the statistics for each of these calculated values (i.e. mean, minimum, maximum, standard deviation, percentiles)."
   ]
  },
  {
   "cell_type": "code",
   "execution_count": null,
   "metadata": {
    "scrolled": true
   },
   "outputs": [],
   "source": [
    "logitelas1 = TRAIN_AV_SP * (1.0 - prob1) * TRAIN_TT_SCALED * B_TIME\n",
    "logitelas2 = SM_AV * (1.0 - prob2) * SM_TT_SCALED * B_TIME\n",
    "logitelas3 = CAR_AV_SP * (1.0 - prob3) * CAR_TT_SCALED * B_TIME\n",
    "\n",
    "simulate = {'Prob. train': prob1,\n",
    "            'Prob. Swissmetro': prob2,\n",
    "            'Prob. car':prob3,\n",
    "            'logit elas. 1':logitelas1,\n",
    "            'generic elas. 1':genelas1,\n",
    "            'logit elas. 2':logitelas2,\n",
    "            'generic elas. 2':genelas2,\n",
    "            'logit elas. 3':logitelas3,\n",
    "            'generic elas. 3':genelas3}\n",
    "\n",
    "biogeme  = bio.BIOGEME(database,simulate)\n",
    "biogeme.modelName = \"01logit_simul\"\n",
    "results = biogeme.simulate(results.get_beta_values())\n",
    "print(\"Results=\",results.describe())"
   ]
  },
  {
   "cell_type": "markdown",
   "metadata": {},
   "source": [
    "# Nested Logit Model\n",
    "It is straightforward to extend the logit model to a nested specification in Biogeme. We explore a structure with existing modes (i.e. car and train) in one nest and proposed modes (i.e. swiss metro) in a separate nest. We need to define a nesting coefficient for one of the nests, with the other assumed fixed at 1.0."
   ]
  },
  {
   "cell_type": "code",
   "execution_count": 12,
   "metadata": {},
   "outputs": [],
   "source": [
    "MU = Beta('MU',2.05,1,10,0)"
   ]
  },
  {
   "cell_type": "markdown",
   "metadata": {},
   "source": [
    "The utility functions are specified in the same way as for a simple multinomial logit model."
   ]
  },
  {
   "cell_type": "code",
   "execution_count": 13,
   "metadata": {},
   "outputs": [],
   "source": [
    "V1 = ASC_TRAIN + \\\n",
    "     B_TIME * TRAIN_TT_SCALED + \\\n",
    "     B_COST * TRAIN_COST_SCALED\n",
    "V2 = ASC_SM + \\\n",
    "     B_TIME * SM_TT_SCALED + \\\n",
    "     B_COST * SM_COST_SCALED\n",
    "V3 = ASC_CAR + \\\n",
    "     B_TIME * CAR_TT_SCALED + \\\n",
    "     B_COST * CAR_CO_SCALED\n",
    "\n",
    "# Associate utility functions with the numbering of alternatives\n",
    "V = {1: V1,\n",
    "     2: V2,\n",
    "     3: V3}\n",
    "\n",
    "# Associate the availability conditions with the alternatives (un-comment if running as new file)\n",
    "# CAR_AV_SP =  DefineVariable('CAR_AV_SP',CAR_AV  * (  SP   !=  0  ),database)\n",
    "# TRAIN_AV_SP =  DefineVariable('TRAIN_AV_SP',TRAIN_AV  * (  SP   !=  0  ),database)\n",
    "\n",
    "av = {1: TRAIN_AV_SP,\n",
    "      2: SM_AV,\n",
    "      3: CAR_AV_SP}"
   ]
  },
  {
   "cell_type": "markdown",
   "metadata": {},
   "source": [
    "Biogeme requires some additional details to define the nested logit models. We must define the two nests, the scale parameter associated with each nest, and the alternatives in each nest. "
   ]
  },
  {
   "cell_type": "code",
   "execution_count": 14,
   "metadata": {},
   "outputs": [],
   "source": [
    "#Definition of nests:\n",
    "# 1: nests parameter\n",
    "# 2: list of alternatives\n",
    "existing = MU , [1,3]\n",
    "future = 1.0 , [2]\n",
    "nests = existing,future"
   ]
  },
  {
   "cell_type": "markdown",
   "metadata": {},
   "source": [
    "The final component of the nested logit code is, again, similar to that for a multinomial logit model. The difference is that we now use the .lognested() function, which requires an additional input parameter specifying the nesting structure."
   ]
  },
  {
   "cell_type": "code",
   "execution_count": null,
   "metadata": {},
   "outputs": [],
   "source": [
    "# The choice model is a nested logit, with availability conditions\n",
    "logprob = models.lognested(V,av,nests,CHOICE)\n",
    "biogeme  = bio.BIOGEME(database,logprob)\n",
    "biogeme.modelName = \"02nested\"\n",
    "results = biogeme.estimate()\n",
    "# Get the results in a pandas table\n",
    "pandasResults = results.getEstimatedParameters()\n",
    "print(pandasResults)"
   ]
  }
 ],
 "metadata": {
  "kernelspec": {
   "display_name": "Python 3",
   "language": "python",
   "name": "python3"
  },
  "language_info": {
   "codemirror_mode": {
    "name": "ipython",
    "version": 3
   },
   "file_extension": ".py",
   "mimetype": "text/x-python",
   "name": "python",
   "nbconvert_exporter": "python",
   "pygments_lexer": "ipython3",
   "version": "3.12.1"
  }
 },
 "nbformat": 4,
 "nbformat_minor": 4
}
