{
 "cells": [
  {
   "cell_type": "markdown",
   "id": "1645e3b1",
   "metadata": {},
   "source": [
    "# Data input\n",
    "- We will first import the necessary Python packages\n",
    "- We will then load our datasets"
   ]
  },
  {
   "cell_type": "code",
   "execution_count": 80,
   "id": "9691df65",
   "metadata": {
    "scrolled": true
   },
   "outputs": [],
   "source": [
    "import pandas as pd\n",
    "import numpy as np\n",
    "import matplotlib.pyplot as plt\n",
    "# import seaborn as sns\n",
    "# # The default matplotlib style is a bit ugly. Seaborn provides a nicer style sheet that integrates with matplotlib.\n",
    "# sns.set()  # use Seaborn styles. "
   ]
  },
  {
   "cell_type": "code",
   "execution_count": 81,
   "id": "d8e8dd67",
   "metadata": {},
   "outputs": [],
   "source": [
    "df_hh = pd.read_csv('./data/hhpub.csv') # import the household data\n",
    "df_per = pd.read_csv('./data/perpub.csv') # import the person data\n",
    "df_trip = pd.read_csv('./data/trippub.csv') # import the trip data\n",
    "df_veh = pd.read_csv('./data/vehpub.csv') # import the vehicle data"
   ]
  },
  {
   "cell_type": "code",
   "execution_count": null,
   "id": "9559c0eb",
   "metadata": {},
   "outputs": [],
   "source": [
    "df_hh.head()"
   ]
  },
  {
   "cell_type": "markdown",
   "id": "2bdc6ad1",
   "metadata": {},
   "source": [
    "# Basic data exploration\n",
    "Let's first take a look at the trip data and generate some basic statistics."
   ]
  },
  {
   "cell_type": "code",
   "execution_count": null,
   "id": "7b833174",
   "metadata": {},
   "outputs": [],
   "source": [
    "df_trip.groupby('TRIPPURP').count()['HOUSEID'] # Trip count by purpose"
   ]
  },
  {
   "cell_type": "markdown",
   "id": "89638ba8",
   "metadata": {},
   "source": [
    "Let's remove trips with the unknown purpose code (-9) and summarize the results as a percent rather than a count."
   ]
  },
  {
   "cell_type": "code",
   "execution_count": null,
   "id": "2791e75a",
   "metadata": {},
   "outputs": [],
   "source": [
    "(df_trip[df_trip.TRIPPURP!=\"-9\"].groupby('TRIPPURP').count()['HOUSEID']/df_trip.shape[0])*100"
   ]
  },
  {
   "cell_type": "markdown",
   "id": "abed7e7d",
   "metadata": {},
   "source": [
    "Trip distance frequency in bins"
   ]
  },
  {
   "cell_type": "code",
   "execution_count": null,
   "id": "7dc0f2e9",
   "metadata": {},
   "outputs": [],
   "source": [
    "plt.hist(df_trip.TRPMILES, bins=5);\n",
    "plt.gca().set(title='Frequency Histogram', ylabel='Frequency');"
   ]
  },
  {
   "cell_type": "code",
   "execution_count": null,
   "id": "ffd4755b",
   "metadata": {},
   "outputs": [],
   "source": [
    "df_trip.TRPMILES.describe() # Print basic statistics about a column"
   ]
  },
  {
   "cell_type": "markdown",
   "id": "39bfce17",
   "metadata": {},
   "source": [
    "This is not a great diagram because it shows one large bar and many small bars. This is because the histogram default is equal width bins. We can define custom bins."
   ]
  },
  {
   "cell_type": "code",
   "execution_count": null,
   "id": "d41a2262",
   "metadata": {},
   "outputs": [],
   "source": [
    "plt.hist(df_trip[(df_trip.TRPMILES>0) & (df_trip.TRPMILES<500) ].TRPMILES, bins='fd');\n",
    "plt.gca().set(title='Frequency Histogram', ylabel='Frequency');"
   ]
  },
  {
   "cell_type": "code",
   "execution_count": null,
   "id": "18bd9007",
   "metadata": {},
   "outputs": [],
   "source": [
    "plt.hist(df_trip[(df_trip.TRPMILES>0) & (df_trip.TRPMILES<500) ].TRPMILES, bins=[0,1,2,5,10,25,50,75,100,200,300,400,500]);\n",
    "plt.gca().set(title='Frequency Histogram', ylabel='Frequency');"
   ]
  },
  {
   "cell_type": "code",
   "execution_count": null,
   "id": "78dbb2eb",
   "metadata": {},
   "outputs": [],
   "source": [
    "plt.hist(df_trip[(df_trip.TRPMILES>0) & (df_trip.TRPMILES<500) ].TRPMILES, bins=list(range(0,20,2)));\n",
    "plt.gca().set(title='Frequency Histogram', ylabel='Frequency');"
   ]
  },
  {
   "cell_type": "markdown",
   "id": "1b402b12",
   "metadata": {},
   "source": [
    "# Join Data and Perform More Analysis\n",
    "Often we are interested in a combination of attributes on trips, persons, households, vehicles, etc. We can join datatables on common columns and perform additional analysis."
   ]
  },
  {
   "cell_type": "code",
   "execution_count": null,
   "id": "3bca04f3",
   "metadata": {},
   "outputs": [],
   "source": [
    "cols_to_use = df_per.columns.difference(df_trip.columns) # Filter out only the non-common columns\n",
    "df_trip = df_trip.join(df_per[cols_to_use],on='PERSONID') # Join trip datatable with person datatable (shorthand for merge() with inner join)\n",
    "pd.set_option('display.max_rows', None) # Display all rows\n",
    "\n",
    "df_trip.groupby(['R_AGE','TRPTRANS']).count()['PERSONID']"
   ]
  },
  {
   "cell_type": "code",
   "execution_count": null,
   "id": "81efe8ab",
   "metadata": {},
   "outputs": [],
   "source": [
    "df_trip.head()"
   ]
  },
  {
   "cell_type": "markdown",
   "id": "db90131e",
   "metadata": {},
   "source": [
    "It may be more useful to bin age into 10 year groups and display the modes as text."
   ]
  },
  {
   "cell_type": "code",
   "execution_count": null,
   "id": "6d59d9b4",
   "metadata": {},
   "outputs": [],
   "source": [
    "df_trip['AGE_GRP'] = pd.cut(df_trip.R_AGE,bins=list(range(5,100,10)))\n",
    "df_trip['MODE_STR'] = df_trip.TRPTRANS.map({-9:\"Not ascertained\",-8:\"I don't know\",-7:\"I prefer not to answer\",\n",
    "    1:\"Walk\",2:\"Bicycle\",3:\"Car\",4:\"SUV\",5:\"Van\",6:\"Pickup truck\",7:\"Golf cart / Segway\",8:\"Motorcycle / Moped\",\n",
    "    9:\"RV (motor home, ATV, snowmobile)\",10:\"School bus\",11:\"Public or commuter bus\",12:\"Paratransit / Dial-a-ride\",\n",
    "    13:\"Private / Charter / Tour / Shuttle bus\",14:\"City-to-city bus (Greyhound, Megabus)\",15:\"Amtrak / Commuter rail\",\n",
    "    16:\"Subway / elevated / light rail / street car\",17:\"Taxi / limo (including Uber / Lyft)\",\n",
    "    18:\"Rental car (Including Zipcar / Car2Go)\",19:\"Airplane\",20:\"Boat / ferry / water taxi\",97:\"Something Else\"\n",
    "})\n",
    "\n",
    "df_trip.groupby(['AGE_GRP','MODE_STR']).count()['PERSONID'].unstack()"
   ]
  },
  {
   "cell_type": "markdown",
   "id": "fdaf0f95",
   "metadata": {},
   "source": [
    "One easy way to remove outliers is via a robust sigma-clipping operation. The final line in the below code is a robust estimate of the sample mean, where the 0.74 comes from the interquartile range of a Gaussian distribution. We'll remove records with overly long or short travel distances, focusing on trips made by private vehicle."
   ]
  },
  {
   "cell_type": "code",
   "execution_count": null,
   "id": "8bee9dea",
   "metadata": {},
   "outputs": [],
   "source": [
    "auto_trips = df_trip.query('(MODE_STR == \"Car\") | (MODE_STR == \"SUV\") | (MODE_STR == \"Van\") | (MODE_STR == \"Pikcup truck\")')\n",
    "print(\"Rows before outlier removal:\" , auto_trips.shape[0])\n",
    "quartiles = np.percentile(auto_trips['TRPMILES'], [25, 50, 75])\n",
    "mu = quartiles[1]\n",
    "sig = 0.74 * (quartiles[2] - quartiles[0])\n",
    "auto_trips_remove_outliers = auto_trips.query('(TRPMILES > @mu - 5 * @sig) & (TRPMILES < @mu + 5 * @sig)')\n",
    "print(\"Rows after outlier removal:\" , auto_trips_remove_outliers.shape[0])"
   ]
  },
  {
   "cell_type": "markdown",
   "id": "5ee3f92a",
   "metadata": {},
   "source": [
    "Let's take a look at the number of trips by day of the week and trip purpose."
   ]
  },
  {
   "cell_type": "code",
   "execution_count": null,
   "id": "47d11197",
   "metadata": {},
   "outputs": [],
   "source": [
    "DOW_dict = {1:\"Sun\",2:\"Mon\",3:\"Tues\",4:\"Wed\",5:\"Thurs\",6:\"Fri\",7:\"Sat\"}\n",
    "df_trip[df_trip!=\"-9\"].sort_values(by=\"TRAVDAY\").replace({\"TRAVDAY\":DOW_dict}).pivot_table('TDCASEID', index='TRAVDAY',\n",
    "                    columns='TRIPPURP', aggfunc='count',sort=False).plot()\n",
    "plt.ylabel('total trips per day by purpose');\n",
    "plt.xlabel('travel day');"
   ]
  }
 ],
 "metadata": {
  "kernelspec": {
   "display_name": "Python 3",
   "language": "python",
   "name": "python3"
  },
  "language_info": {
   "codemirror_mode": {
    "name": "ipython",
    "version": 3
   },
   "file_extension": ".py",
   "mimetype": "text/x-python",
   "name": "python",
   "nbconvert_exporter": "python",
   "pygments_lexer": "ipython3",
   "version": "3.12.1"
  }
 },
 "nbformat": 4,
 "nbformat_minor": 5
}
