{
 "cells": [
  {
   "cell_type": "markdown",
   "id": "c5af2b8f",
   "metadata": {},
   "source": [
    "# NumPy"
   ]
  },
  {
   "cell_type": "markdown",
   "id": "98f57dfa",
   "metadata": {},
   "source": [
    "## Understanding data storage\n",
    "Effective data-driven science and computation requires understanding how data is stored and manipulated. This section outlines and contrasts how arrays of data are handled in the Python language itself, and how NumPy and Pandas improve upon the base data structures."
   ]
  },
  {
   "cell_type": "markdown",
   "id": "8d2b7be4",
   "metadata": {},
   "source": [
    "Users of Python are often drawn-in by its ease of use, one piece of which is dynamic typing. While a statically-typed language like C or Java requires explicit variable type declarations, a dynamically-typed language like Python skips this specification. For example, in C one might specify a particular operation as follows:"
   ]
  },
  {
   "cell_type": "raw",
   "id": "0ba6b594",
   "metadata": {},
   "source": [
    "/* C code */\n",
    "int result = 0;\n",
    "for(int i=0; i<100; i++){\n",
    "    result += i;\n",
    "}"
   ]
  },
  {
   "cell_type": "markdown",
   "id": "f36f01d5",
   "metadata": {},
   "source": [
    "While in Python the equivalent operation could be written as follows:"
   ]
  },
  {
   "cell_type": "code",
   "execution_count": 27,
   "id": "b83c43f2",
   "metadata": {},
   "outputs": [],
   "source": [
    "# Python code\n",
    "result = 0\n",
    "for i in range(100):\n",
    "    result += i"
   ]
  },
  {
   "cell_type": "markdown",
   "id": "943321bd",
   "metadata": {},
   "source": [
    "Notice the main difference: in C, variable data types are explicitly declared, while in Python they are dynamically inferred from their values. This means that we can assign any kind of data to any variable:"
   ]
  },
  {
   "cell_type": "code",
   "execution_count": 28,
   "id": "344bdede",
   "metadata": {},
   "outputs": [],
   "source": [
    "# Python code\n",
    "x = 4\n",
    "x = \"four\""
   ]
  },
  {
   "cell_type": "markdown",
   "id": "11ff9042",
   "metadata": {},
   "source": [
    "But this flexibility comes at a cost. A single integer contains four pieces (leading to overhead):\n",
    "- ```ob_refcnt```, a reference count that helps Python silently handle memory allocation and deallocation\n",
    "- ```ob_type```, which encodes the variable type\n",
    "- ```ob_size```, which specifies the size of the following data members\n",
    "- ```ob_digit```, which contains the actual integer value for the Python variable."
   ]
  },
  {
   "cell_type": "markdown",
   "id": "75477772",
   "metadata": {},
   "source": [
    "## NumPy arrays\n",
    "NumPy is a tool to more effiently handle numerical data in Python. It has a closer connection to C and stronger restrictions on data types - i.e., must be numerical and the same type."
   ]
  },
  {
   "cell_type": "code",
   "execution_count": null,
   "id": "18e566ca",
   "metadata": {},
   "outputs": [],
   "source": [
    "import numpy as np\n",
    "# integer array:\n",
    "int_array = np.array([1, 4, 2, 5, 3])\n",
    "print(\"Array is:\", int_array)\n",
    "print(\"Array data type is:\", int_array.dtype)"
   ]
  },
  {
   "cell_type": "markdown",
   "id": "f8dfaaad",
   "metadata": {},
   "source": [
    "If types do not match, NumPy will *up-cast* the array. For example, considering the following array containg a mix of integers and floating point numbers. NumPy will *up-cast* the array to be floats."
   ]
  },
  {
   "cell_type": "code",
   "execution_count": null,
   "id": "febf0c56",
   "metadata": {},
   "outputs": [],
   "source": [
    "mixed_array = np.array([3.14, 4, 2, 3])\n",
    "print(\"Array is:\", mixed_array)\n",
    "print(\"Array data type is:\", mixed_array.dtype)"
   ]
  },
  {
   "cell_type": "markdown",
   "id": "c9a35b51",
   "metadata": {},
   "source": [
    "Unlike Python lists, NumPy arrays can explicitly be multi-dimensional; here's one way of initializing a multidimensional array using a list of lists:"
   ]
  },
  {
   "cell_type": "code",
   "execution_count": null,
   "id": "40c0a500",
   "metadata": {},
   "outputs": [],
   "source": [
    "# Nested lists result in multi-dimensional arrays\n",
    "# range() generates a sequence of numbers\n",
    "# Use shorthand loop syntax to susinctly generate a list of lists\n",
    "np.array([range(i, i + 3) for i in [2, 4, 6]])"
   ]
  },
  {
   "cell_type": "markdown",
   "id": "0996d354",
   "metadata": {},
   "source": [
    "## Creating NumPy arrays from scratch\n",
    "It is often more efficient to create arrays from scratch using built-in NumPy routines. Array values can be updated by subsequent code."
   ]
  },
  {
   "cell_type": "code",
   "execution_count": null,
   "id": "cdcefb3a",
   "metadata": {},
   "outputs": [],
   "source": [
    "# Create a length-10 integer array filled with zeros\n",
    "np.zeros(10, dtype=int)"
   ]
  },
  {
   "cell_type": "code",
   "execution_count": null,
   "id": "0cf01310",
   "metadata": {},
   "outputs": [],
   "source": [
    "# Create a 3x5 floating-point array filled with ones\n",
    "np.ones((3, 5), dtype=float)"
   ]
  },
  {
   "cell_type": "code",
   "execution_count": null,
   "id": "7f5c8e14",
   "metadata": {},
   "outputs": [],
   "source": [
    "# Create a 3x5 array filled with 3.14\n",
    "np.full((3, 5), 3.14)"
   ]
  },
  {
   "cell_type": "code",
   "execution_count": null,
   "id": "1fae44e4",
   "metadata": {},
   "outputs": [],
   "source": [
    "# Create an array filled with a linear sequence\n",
    "# Starting at 0, ending at 20, stepping by 2\n",
    "# (this is similar to Python's built-in range() function)\n",
    "np.arange(0, 20, 2)"
   ]
  },
  {
   "cell_type": "code",
   "execution_count": null,
   "id": "8d5d428f",
   "metadata": {},
   "outputs": [],
   "source": [
    "# Create an array of five values evenly spaced between 0 and 1\n",
    "np.linspace(0, 1, 5)"
   ]
  },
  {
   "cell_type": "code",
   "execution_count": null,
   "id": "b843c14b",
   "metadata": {},
   "outputs": [],
   "source": [
    "# Create a 3x3 array of uniformly distributed\n",
    "# random values between 0 and 1\n",
    "np.random.random((3, 3))"
   ]
  },
  {
   "cell_type": "code",
   "execution_count": null,
   "id": "17d7b1b6",
   "metadata": {
    "scrolled": true
   },
   "outputs": [],
   "source": [
    "# Create a 3x3 array of normally distributed random values\n",
    "# with mean 0 and standard deviation 1\n",
    "np.random.normal(0, 1, (3, 3))"
   ]
  },
  {
   "cell_type": "code",
   "execution_count": null,
   "id": "12a2e246",
   "metadata": {},
   "outputs": [],
   "source": [
    "# Create a 3x3 array of random integers in the interval [0, 10)\n",
    "np.random.randint(0, 10, (3, 3))"
   ]
  },
  {
   "cell_type": "code",
   "execution_count": null,
   "id": "e8a51a3b",
   "metadata": {
    "scrolled": true
   },
   "outputs": [],
   "source": [
    "# Create a 3x3 identity matrix\n",
    "np.eye(3)"
   ]
  },
  {
   "cell_type": "code",
   "execution_count": null,
   "id": "6785d1e9",
   "metadata": {
    "scrolled": true
   },
   "outputs": [],
   "source": [
    "# Create an uninitialized array of three integers\n",
    "# The values will be whatever happens to already exist at that memory location\n",
    "np.empty(3)"
   ]
  },
  {
   "cell_type": "markdown",
   "id": "dddd9521",
   "metadata": {},
   "source": [
    "## Basic NumPy array attributes"
   ]
  },
  {
   "cell_type": "code",
   "execution_count": 42,
   "id": "60ecaf0d",
   "metadata": {},
   "outputs": [],
   "source": [
    "import numpy as np\n",
    "np.random.seed(0)  # seed for reproducibility\n",
    "\n",
    "x1 = np.random.randint(10, size=6)  # One-dimensional array\n",
    "x2 = np.random.randint(10, size=(3, 4))  # Two-dimensional array\n",
    "x3 = np.random.randint(10, size=(3, 4, 5))  # Three-dimensional array"
   ]
  },
  {
   "cell_type": "code",
   "execution_count": null,
   "id": "de11519a",
   "metadata": {},
   "outputs": [],
   "source": [
    "print(\"x3 ndim: \", x3.ndim) # number of array dimensions\n",
    "print(\"x3 shape:\", x3.shape) # size of each array dimension\n",
    "print(\"x3 size: \", x3.size) # total array size"
   ]
  },
  {
   "cell_type": "markdown",
   "id": "28f85710",
   "metadata": {},
   "source": [
    "## Array Indexing"
   ]
  },
  {
   "cell_type": "code",
   "execution_count": null,
   "id": "f938ca3b",
   "metadata": {},
   "outputs": [],
   "source": [
    "x1[0] # Give me the value at the 0-th array location"
   ]
  },
  {
   "cell_type": "code",
   "execution_count": null,
   "id": "1249bb06",
   "metadata": {},
   "outputs": [],
   "source": [
    "x1[4] # Give me the value at the 4-th array location"
   ]
  },
  {
   "cell_type": "code",
   "execution_count": null,
   "id": "caec8a87",
   "metadata": {},
   "outputs": [],
   "source": [
    "x1[-1] # Give me the last array element"
   ]
  },
  {
   "cell_type": "markdown",
   "id": "b6be6dd0",
   "metadata": {},
   "source": [
    "In a multi-dimensional array, elements can be accessed using comma-separated typle indices."
   ]
  },
  {
   "cell_type": "code",
   "execution_count": null,
   "id": "0904d438",
   "metadata": {
    "scrolled": true
   },
   "outputs": [],
   "source": [
    "x2[0,0] # Give mt the value at array location [0,0]"
   ]
  },
  {
   "cell_type": "markdown",
   "id": "7e6b6ab0",
   "metadata": {},
   "source": [
    "Elements can also be updated using the same syntax"
   ]
  },
  {
   "cell_type": "code",
   "execution_count": null,
   "id": "02091886",
   "metadata": {
    "scrolled": true
   },
   "outputs": [],
   "source": [
    "print(\"Value before:\", x2[0,0])\n",
    "x2[0,0] = 4.1 # Note: this value is down-cast to an integer to match the declared array data type\n",
    "print(\"Value after:\", x2[0,0])"
   ]
  },
  {
   "cell_type": "markdown",
   "id": "07d220cc",
   "metadata": {},
   "source": [
    "Array slicing is a tool to access subarrays. Remember that array indices begin at 0. Note that ```:``` is the slice operator and the upper range value is not included in the slice - e.g., 1:3 will give us back element 1 (actually 2) and 2 (actually 3)."
   ]
  },
  {
   "cell_type": "code",
   "execution_count": null,
   "id": "34b4e8fe",
   "metadata": {},
   "outputs": [],
   "source": [
    "print(\"Option 1:\\n\", x2[1:3,]) # Give me the elements for rows 1-2 (zero-indexed, so actually 2-3) for all columns\n",
    "start = 1\n",
    "end = 3\n",
    "print(\"Option 2:\\n\", x2[start:end,]) # Integer variables can also be defined as used as slice indices"
   ]
  },
  {
   "cell_type": "markdown",
   "id": "b54e6baf",
   "metadata": {},
   "source": [
    "More complex indexing is also possible using ```::i``` syntax, which tells Python to give us back every i-th column (row)"
   ]
  },
  {
   "cell_type": "code",
   "execution_count": null,
   "id": "35f15b26",
   "metadata": {
    "scrolled": true
   },
   "outputs": [],
   "source": [
    "print(\"Forward:\\n\", x2[:,::2]) # Gives me every row and every second column starting with column 0\n",
    "print(\"Backward:\\n\", x2[:,::-2]) # Gives me every row and every second column starting with last column"
   ]
  },
  {
   "cell_type": "markdown",
   "id": "a1c012c0",
   "metadata": {},
   "source": [
    "## Reshaping arrays"
   ]
  },
  {
   "cell_type": "code",
   "execution_count": null,
   "id": "520af4e1",
   "metadata": {
    "scrolled": true
   },
   "outputs": [],
   "source": [
    "grid = np.arange(1, 10).reshape((3, 3)) # numbers between 1 to 9 in a 3x3 grid\n",
    "print(grid)"
   ]
  },
  {
   "cell_type": "markdown",
   "id": "a51e6457",
   "metadata": {},
   "source": [
    "The reshaped array size must match the original array size."
   ]
  },
  {
   "cell_type": "code",
   "execution_count": null,
   "id": "b4109686",
   "metadata": {},
   "outputs": [],
   "source": [
    "grid.reshape((3,1))"
   ]
  },
  {
   "cell_type": "code",
   "execution_count": null,
   "id": "78ea96e7",
   "metadata": {
    "scrolled": true
   },
   "outputs": [],
   "source": [
    "grid.reshape((9,1))"
   ]
  },
  {
   "cell_type": "markdown",
   "id": "9ab97f43",
   "metadata": {},
   "source": [
    "A slight nuisance when working with NumPy is its treatment of 1D arrays. It is often necessary to add a second dimension using ```newaxis``` to perform array operations."
   ]
  },
  {
   "cell_type": "code",
   "execution_count": null,
   "id": "198d10b3",
   "metadata": {},
   "outputs": [],
   "source": [
    "x = np.array([1,2,3])\n",
    "print(\"Shape before:\", x.shape)\n",
    "y = x[np.newaxis,:]\n",
    "print(\"Shape after:\", y.shape)"
   ]
  },
  {
   "cell_type": "markdown",
   "id": "35c3ac4a",
   "metadata": {},
   "source": [
    "In many applications, we have several arrays that we want to combine (concatenate) to form a single array."
   ]
  },
  {
   "cell_type": "code",
   "execution_count": null,
   "id": "32f6dff7",
   "metadata": {},
   "outputs": [],
   "source": [
    "x = np.array([1,2,3])\n",
    "y = np.array([3,2,1])\n",
    "np.concatenate([x,y])"
   ]
  },
  {
   "cell_type": "markdown",
   "id": "a5f16aef",
   "metadata": {},
   "source": [
    "We can also concatenate two-dimensional arrays but need to be aware of which dimension the arrays are being concatenated along. By default, NumPy will concatenate along the rows first (stores data in memory as row major, C style)."
   ]
  },
  {
   "cell_type": "code",
   "execution_count": null,
   "id": "11bc5ccc",
   "metadata": {},
   "outputs": [],
   "source": [
    "arr1 = np.arange(1, 10).reshape((3, 3))\n",
    "arr2 = np.arange(21, 30).reshape((3, 3))\n",
    "print(\"Default concatentation\\n\",np.concatenate([arr1,arr2]))\n",
    "print(\"Default concatentation\\n\",np.concatenate([arr1,arr2],axis=1)) # Axes are zero-based"
   ]
  },
  {
   "cell_type": "markdown",
   "id": "93173f8b",
   "metadata": {},
   "source": [
    "When dealing with 2D array, it's often clearer to work with the ```np.vstack()``` and ```np.hstack()``` functions. These functions will work for higher dimensional arrays, but they do not necessarily improve clarity in such instances."
   ]
  },
  {
   "cell_type": "code",
   "execution_count": null,
   "id": "1b2124be",
   "metadata": {},
   "outputs": [],
   "source": [
    "print(\"np.vstack()\\n\",np.vstack([arr1,arr2]))\n",
    "print(\"np.hstack()\\n\",np.hstack([arr1,arr2]))"
   ]
  },
  {
   "cell_type": "markdown",
   "id": "69dad597",
   "metadata": {},
   "source": [
    "## Computation with NumPy"
   ]
  },
  {
   "cell_type": "markdown",
   "id": "24cb5305",
   "metadata": {},
   "source": [
    "Python can be surprisingly slow, particuarly when repeatedly performing small operations. Considering a simple function that computes the reciprical for an array of integers."
   ]
  },
  {
   "cell_type": "code",
   "execution_count": null,
   "id": "bb44432e",
   "metadata": {},
   "outputs": [],
   "source": [
    "import numpy as np\n",
    "np.random.seed(0)\n",
    "\n",
    "def compute_reciprocals(values):\n",
    "    output = np.empty(len(values))\n",
    "    for i in range(len(values)):\n",
    "        output[i] = 1.0 / values[i]\n",
    "    return output\n",
    "        \n",
    "values = np.random.randint(1, 10, size=5)\n",
    "compute_reciprocals(values)"
   ]
  },
  {
   "cell_type": "code",
   "execution_count": null,
   "id": "83b03ee8",
   "metadata": {},
   "outputs": [],
   "source": [
    "big_array = np.random.randint(1, 100, size=1000000)\n",
    "%timeit compute_reciprocals(big_array) # Use IPython %timeit to monitor runtime"
   ]
  },
  {
   "cell_type": "markdown",
   "id": "26a708f6",
   "metadata": {},
   "source": [
    "Python is looking up the data type each time it runs the reprical calculation. NumPy offers a *vectorized* implementation that is much faster. The operations is performed on the full array and looping over individual elements is pushed into the compiled layer."
   ]
  },
  {
   "cell_type": "code",
   "execution_count": null,
   "id": "54607ece",
   "metadata": {
    "scrolled": true
   },
   "outputs": [],
   "source": [
    "big_array = np.random.randint(1, 100, size=1000000)\n",
    "%timeit (1.0/big_array) # Use IPython %timeit to monitor runtime"
   ]
  },
  {
   "cell_type": "markdown",
   "id": "5c7127a9",
   "metadata": {},
   "source": [
    "NumPy functions are intuitive to use because they use Python's built-in arithematic operations"
   ]
  },
  {
   "cell_type": "code",
   "execution_count": null,
   "id": "fe404a1e",
   "metadata": {
    "scrolled": true
   },
   "outputs": [],
   "source": [
    "x = np.arange(4)\n",
    "print(\"x =\", x)\n",
    "print(\"x + 5 =\", x + 5)\n",
    "print(\"x - 5 =\", x - 5)\n",
    "print(\"x * 2 =\", x * 2)\n",
    "print(\"x / 2 =\", x / 2)\n",
    "print(\"x // 2 =\", x // 2)  # floor division\n",
    "print(\"-x= \", -x)\n",
    "print(\"x ** 2 = \", x ** 2) # exponential\n",
    "print(\"x % 2  = \", x % 2) # modulus\n",
    "print(\"e^x =\", np.exp(x))\n",
    "print(\"3^x =\", np.power(3, x))\n",
    "print(\"ln(x) =\", np.log(x))\n",
    "print(\"log10(x) =\", np.log10(x))"
   ]
  },
  {
   "cell_type": "markdown",
   "id": "3417289d",
   "metadata": {},
   "source": [
    "## Matrix operations"
   ]
  },
  {
   "cell_type": "code",
   "execution_count": 63,
   "id": "ac57a979",
   "metadata": {},
   "outputs": [],
   "source": [
    "w = np.random.randint(0, 10, (3, 3)) # 3x3 matrix\n",
    "x = np.random.randint(0, 10, (3, 3)) # 3x3 matrix\n",
    "y = np.random.randint(0, 10, (3)) # 3x1 vector\n",
    "z = np.random.randint(0, 10, (3)) # 3x1 vector"
   ]
  },
  {
   "cell_type": "code",
   "execution_count": null,
   "id": "b3c4c510",
   "metadata": {
    "scrolled": true
   },
   "outputs": [],
   "source": [
    "print(\"Matrix product of w * x using @\\n\", w@x)\n",
    "print(\"Matrix product of w * y using @\\n\", w@y)\n",
    "print(\"Elementwise product of x * z using *\\n\", x*z)\n",
    "print(\"Inner product of y * z using np.inner() \\n\", np.inner(y,z))\n",
    "print(\"Outer product of y * z using np.outer() \\n\", np.outer(y,z))"
   ]
  },
  {
   "cell_type": "markdown",
   "id": "18bbe324",
   "metadata": {},
   "source": [
    "## Aggregations: Min, Max, Etc."
   ]
  },
  {
   "cell_type": "code",
   "execution_count": null,
   "id": "dce5af3d",
   "metadata": {},
   "outputs": [],
   "source": [
    "big_array = np.random.rand(1000000)\n",
    "%timeit sum(big_array)\n",
    "%timeit np.sum(big_array)"
   ]
  },
  {
   "cell_type": "code",
   "execution_count": null,
   "id": "bad9ca7e",
   "metadata": {},
   "outputs": [],
   "source": [
    "np.min(big_array), np.max(big_array)"
   ]
  },
  {
   "cell_type": "code",
   "execution_count": null,
   "id": "59df2d03",
   "metadata": {},
   "outputs": [],
   "source": [
    "M = np.random.random((3, 4))\n",
    "print(M)"
   ]
  },
  {
   "cell_type": "code",
   "execution_count": null,
   "id": "9db0130c",
   "metadata": {},
   "outputs": [],
   "source": [
    "M.sum() # Sum across all dimensions"
   ]
  },
  {
   "cell_type": "code",
   "execution_count": null,
   "id": "2c478c82",
   "metadata": {},
   "outputs": [],
   "source": [
    "M.min(axis=0) # Minimum for each column"
   ]
  },
  {
   "cell_type": "code",
   "execution_count": null,
   "id": "ba08e32d",
   "metadata": {},
   "outputs": [],
   "source": [
    "M.max(axis=1) # Minimum for each row"
   ]
  },
  {
   "cell_type": "markdown",
   "id": "6f9793e7",
   "metadata": {},
   "source": [
    "Many other aggregation functions are available: percentile, median, mean, standard deviation, ..."
   ]
  },
  {
   "cell_type": "markdown",
   "id": "5f6c833d",
   "metadata": {},
   "source": [
    "## Comparison operators\n",
    "These are useful when we want to filter an array (or use it as a *boolean mask function*)."
   ]
  },
  {
   "cell_type": "code",
   "execution_count": null,
   "id": "8903eea4",
   "metadata": {},
   "outputs": [],
   "source": [
    "x = np.array([1, 2, 3, 4, 5])\n",
    "x < 3 # Is x less than 3?"
   ]
  },
  {
   "cell_type": "code",
   "execution_count": null,
   "id": "8356f7a2",
   "metadata": {},
   "outputs": [],
   "source": [
    "x[x<3] # Filter elements of x that are less than 3"
   ]
  },
  {
   "cell_type": "markdown",
   "id": "ee96514d",
   "metadata": {},
   "source": [
    "## Conclusions\n",
    "NumPy is a powerful data tool. There are many other functionalities available within the NumPy package, which are well-documented online."
   ]
  },
  {
   "cell_type": "markdown",
   "id": "42e3254a",
   "metadata": {},
   "source": [
    "$variable_4+\\int_i^jx+\\sum_iX$"
   ]
  },
  {
   "cell_type": "markdown",
   "id": "61ee844a",
   "metadata": {},
   "source": [
    "$"
   ]
  },
  {
   "cell_type": "markdown",
   "id": "035e0236",
   "metadata": {},
   "source": [
    "## References\n",
    "https://jakevdp.github.io/PythonDataScienceHandbook/"
   ]
  }
 ],
 "metadata": {
  "kernelspec": {
   "display_name": "Python 3",
   "language": "python",
   "name": "python3"
  },
  "language_info": {
   "codemirror_mode": {
    "name": "ipython",
    "version": 3
   },
   "file_extension": ".py",
   "mimetype": "text/x-python",
   "name": "python",
   "nbconvert_exporter": "python",
   "pygments_lexer": "ipython3",
   "version": "3.12.1"
  }
 },
 "nbformat": 4,
 "nbformat_minor": 5
}
