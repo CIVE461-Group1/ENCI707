{
 "cells": [
  {
   "cell_type": "markdown",
   "id": "307276c1",
   "metadata": {},
   "source": [
    "# Matplotlib Basics\n",
    "\n",
    "We'll now take an in-depth look at the Matplotlib package for visualization in Python. Matplotlib is a multi-platform data visualization library built on NumPy arrays, and designed to work with the broader SciPy stack. It was conceived by John Hunter in 2002, originally as a patch to IPython for enabling interactive MATLAB-style plotting via gnuplot from the IPython command line. IPython's creator, Fernando Perez, was at the time scrambling to finish his PhD, and let John know he wouldn’t have time to review the patch for several months. John took this as a cue to set out on his own, and the Matplotlib package was born, with version 0.1 released in 2003. It received an early boost when it was adopted as the plotting package of choice of the Space Telescope Science Institute (the folks behind the Hubble Telescope), which financially supported Matplotlib’s development and greatly expanded its capabilities.\n",
    "\n",
    "One of Matplotlib’s most important features is its ability to play well with many operating systems and graphics backends. Matplotlib supports dozens of backends and output types, which means you can count on it to work regardless of which operating system you are using or which output format you wish. This cross-platform, everything-to-everyone approach has been one of the great strengths of Matplotlib. It has led to a large user base, which in turn has led to an active developer base and Matplotlib’s powerful tools and ubiquity within the scientific Python world.\n",
    "\n",
    "In recent years, however, the interface and style of Matplotlib have begun to show their age. Newer tools like ggplot and ggvis in the R language, along with web visualization toolkits based on D3js and HTML5 canvas, often make Matplotlib feel clunky and old-fashioned. Recent Matplotlib versions make it relatively easy to set new global plotting styles, and people have been developing new packages that build on its powerful internals to drive Matplotlib via cleaner, more modern APIs. For example, Seaborn, [ggpy](http://yhat.github.io/ggpy/), [HoloViews](http://holoviews.org/), [Altair](https://altair-viz.github.io/), and even Pandas itself can be used as wrappers around Matplotlib's API. Even with wrappers like these, it is still often useful to dive into Matplotlib's syntax to adjust the final plot output. For this reason, I believe that Matplotlib itself will remain a vital piece of the data visualization stack, even if new tools mean the community gradually moves away from using the Matplotlib API directly.\n",
    "\n",
    "## General Matplotlib Tips\n",
    "Just as we use the np shorthand for NumPy and the pd shorthand for Pandas, we will use some standard shorthands for Matplotlib imports. The ```plt``` interface is what we will use most often, as we shall see throughout this tutorial."
   ]
  },
  {
   "cell_type": "code",
   "execution_count": 30,
   "id": "005c02d8",
   "metadata": {},
   "outputs": [],
   "source": [
    "import matplotlib as mpl\n",
    "import matplotlib.pyplot as plt"
   ]
  },
  {
   "cell_type": "markdown",
   "id": "4a32d364",
   "metadata": {},
   "source": [
    "We can use the ```plt.style``` directive to choose appropriate aesthetic styles for our figures. Here we will set the classic style, which ensures that the plots we create use the classic Matplotlib style."
   ]
  },
  {
   "cell_type": "code",
   "execution_count": 31,
   "id": "8b067870",
   "metadata": {},
   "outputs": [],
   "source": [
    "plt.style.use('classic')"
   ]
  },
  {
   "cell_type": "markdown",
   "id": "3757e196",
   "metadata": {},
   "source": [
    "### Plotting from a Jupyter notebook\n",
    "The Jupyter notebook is a browser-based interactive data analysis tool that can combine narrative, code, graphics, HTML elements, and much more into a single executable document.\n",
    "\n",
    "Plotting interactively within a notebook can be done with the ```%matplotlib``` command. In the notebook, you also have the option of embedding graphics directly in the notebook, with two possible options:\n",
    "\n",
    "- ```%matplotlib notebook``` will lead to interactive plots embedded within the notebook\n",
    "- ```%matplotlib inline``` will lead to static images of your plot embedded in the notebook\n",
    "\n",
    "For this tutorial, we will generally opt for ```%matplotlib inline``` (the default setting)"
   ]
  },
  {
   "cell_type": "code",
   "execution_count": null,
   "id": "5996278e",
   "metadata": {},
   "outputs": [],
   "source": [
    "%matplotlib inline\n",
    "\n",
    "import numpy as np\n",
    "x = np.linspace(0, 10, 100)\n",
    "\n",
    "fig = plt.figure()\n",
    "plt.plot(x, np.sin(x), '-')\n",
    "plt.plot(x, np.cos(x), '--');"
   ]
  },
  {
   "cell_type": "markdown",
   "id": "46cc9eb9",
   "metadata": {},
   "source": [
    "One nice feature of Matplotlib is the ability to save figures in a wide variety of formats. Saving a figure can be done using the savefig() command. For example, to save the previous figure as a PNG file, you can run the following code."
   ]
  },
  {
   "cell_type": "code",
   "execution_count": 33,
   "id": "cad7bef5",
   "metadata": {},
   "outputs": [],
   "source": [
    "fig.savefig('my_figure.png')"
   ]
  },
  {
   "cell_type": "code",
   "execution_count": null,
   "id": "08042fe3",
   "metadata": {},
   "outputs": [],
   "source": [
    "from IPython.display import Image\n",
    "Image('my_figure.png')"
   ]
  },
  {
   "cell_type": "markdown",
   "id": "b0e52f25",
   "metadata": {},
   "source": [
    "### Two Interfaces for the Price of One\n",
    "A potentially confusing feature of Matplotlib is its dual interfaces: a convenient MATLAB-style state-based interface, and a more powerful object-oriented interface. We'll quickly highlight the differences between the two here."
   ]
  },
  {
   "cell_type": "markdown",
   "id": "635271d2",
   "metadata": {},
   "source": [
    "#### MATLAB-style interface"
   ]
  },
  {
   "cell_type": "code",
   "execution_count": null,
   "id": "5f05cb5f",
   "metadata": {},
   "outputs": [],
   "source": [
    "plt.figure()  # create a plot figure\n",
    "\n",
    "# create the first of two panels and set current axis\n",
    "plt.subplot(2, 1, 1) # (rows, columns, panel number)\n",
    "plt.plot(x, np.sin(x))\n",
    "\n",
    "# create the second panel and set current axis\n",
    "plt.subplot(2, 1, 2)\n",
    "plt.plot(x, np.cos(x));"
   ]
  },
  {
   "cell_type": "markdown",
   "id": "ab9e5222",
   "metadata": {},
   "source": [
    "It is important to note that this interface is stateful: it keeps track of the \"current\" figure and axes, which are where all ```plt``` commands are applied. You can get a reference to these using the ```plt.gcf()``` (get current figure) and ```plt.gca()``` (get current axes) routines.\n",
    "\n",
    "While this stateful interface is fast and convenient for simple plots, it is easy to run into problems. For example, once the second panel is created, how can we go back and add something to the first? This is possible within the MATLAB-style interface, but a bit clunky. Fortunately, there is a better way."
   ]
  },
  {
   "cell_type": "markdown",
   "id": "a2a58c19",
   "metadata": {},
   "source": [
    "#### Objective-oriented interface\n",
    "The object-oriented interface is available for these more complicated situations, and for when you want more control over your figure. Rather than depending on some notion of an \"active\" figure or axes, in the object-oriented interface the plotting functions are methods of explicit ```Figure``` and ```Axes``` objects. To re-create the previous plot using this style of plotting, you might do the following."
   ]
  },
  {
   "cell_type": "code",
   "execution_count": null,
   "id": "f5e53a45",
   "metadata": {},
   "outputs": [],
   "source": [
    "# First create a grid of plots\n",
    "# ax will be an array of two Axes objects\n",
    "fig, ax = plt.subplots(2)\n",
    "\n",
    "# Call plot() method on the appropriate object\n",
    "ax[0].plot(x, np.sin(x))\n",
    "ax[1].plot(x, np.cos(x));"
   ]
  },
  {
   "cell_type": "markdown",
   "id": "cceedf2f",
   "metadata": {},
   "source": [
    "For more simple plots, the choice of which style to use is largely a matter of preference, but the object-oriented approach can become a necessity as plots become more complicated. Throughout this tutorial, we will switch between the MATLAB-style and object-oriented interfaces, depending on what is most convenient. In most cases, the difference is as small as switching ```plt.plot()``` to ```ax.plot()``, but there are a few gotchas that we will highlight as they come up in the following sections."
   ]
  },
  {
   "cell_type": "markdown",
   "id": "6f835cba",
   "metadata": {},
   "source": [
    "## Simple Line Plots"
   ]
  },
  {
   "cell_type": "code",
   "execution_count": 37,
   "id": "7061c919",
   "metadata": {},
   "outputs": [],
   "source": [
    "import matplotlib.pyplot as plt\n",
    "plt.style.use('seaborn-v0_8-whitegrid')\n",
    "import numpy as np"
   ]
  },
  {
   "cell_type": "markdown",
   "id": "ef8dbbf2",
   "metadata": {},
   "source": [
    "For all Matplotlib plots, we start by creating a figure and an axes. In their simplest form, a figure and axes can be created as follows:"
   ]
  },
  {
   "cell_type": "code",
   "execution_count": null,
   "id": "d4dd1cad",
   "metadata": {},
   "outputs": [],
   "source": [
    "fig = plt.figure()\n",
    "ax = plt.axes()"
   ]
  },
  {
   "cell_type": "markdown",
   "id": "6e5d4c5f",
   "metadata": {},
   "source": [
    "In Matplotlib, the *figure* (an instance of the class ```plt.Figure```) can be thought of as a single container that contains all the objects representing axes, graphics, text, and labels. The *axes* (an instance of the class ```plt.Axes```) is what we see above: a bounding box with ticks and labels, which will eventually contain the plot elements that make up our visualization. Throughout this book, we'll commonly use the variable name ```fig``` to refer to a figure instance, and ```ax``` to refer to an axes instance or group of axes instances.\n",
    "\n",
    "Once we have created an axes, we can use the ```ax.plot``` function to plot some data. Let's start with a simple sinusoid:"
   ]
  },
  {
   "cell_type": "code",
   "execution_count": null,
   "id": "8cfd7bef",
   "metadata": {
    "scrolled": true
   },
   "outputs": [],
   "source": [
    "fig = plt.figure()\n",
    "ax = plt.axes()\n",
    "\n",
    "x = np.linspace(0, 10, 1000)\n",
    "ax.plot(x, np.sin(x));"
   ]
  },
  {
   "cell_type": "markdown",
   "id": "d96348b1",
   "metadata": {},
   "source": [
    "Alternatively, we can use the pylab interface and let the figure and axes be created for us in the background"
   ]
  },
  {
   "cell_type": "code",
   "execution_count": null,
   "id": "62167701",
   "metadata": {},
   "outputs": [],
   "source": [
    "plt.plot(x, np.sin(x));"
   ]
  },
  {
   "cell_type": "markdown",
   "id": "02c163c6",
   "metadata": {},
   "source": [
    "If we want to create a single figure with multiple lines, we can simply call the plot function multiple times."
   ]
  },
  {
   "cell_type": "code",
   "execution_count": null,
   "id": "16d4c2a8",
   "metadata": {},
   "outputs": [],
   "source": [
    "plt.plot(x, np.sin(x))\n",
    "plt.plot(x, np.cos(x));"
   ]
  },
  {
   "cell_type": "markdown",
   "id": "5146c6e3",
   "metadata": {},
   "source": [
    "### Adjusting the plot: Line Colors and Styles"
   ]
  },
  {
   "cell_type": "markdown",
   "id": "d246985b",
   "metadata": {},
   "source": [
    "The first adjustment you might wish to make to a plot is to control the line colors and styles. The ```plt.plot()``` function takes additional arguments that can be used to specify these. To adjust the color, you can use the ```color``` keyword, which accepts a string argument representing virtually any imaginable color. The color can be specified in a variety of ways."
   ]
  },
  {
   "cell_type": "code",
   "execution_count": null,
   "id": "dc94f367",
   "metadata": {},
   "outputs": [],
   "source": [
    "plt.plot(x, np.sin(x - 0), color='blue')        # specify color by name\n",
    "plt.plot(x, np.sin(x - 1), color='g')           # short color code (rgbcmyk)\n",
    "plt.plot(x, np.sin(x - 2), color='0.75')        # Grayscale between 0 and 1\n",
    "plt.plot(x, np.sin(x - 3), color='#FFDD44')     # Hex code (RRGGBB from 00 to FF)\n",
    "plt.plot(x, np.sin(x - 4), color=(1.0,0.2,0.3)) # RGB tuple, values 0 to 1\n",
    "plt.plot(x, np.sin(x - 5), color='chartreuse'); # all HTML color names supported"
   ]
  },
  {
   "cell_type": "markdown",
   "id": "d4f12c36",
   "metadata": {},
   "source": [
    "If no color is specified, Matplotlib will automatically cycle through a set of default colors for multiple lines.\n",
    "\n",
    "Similarly, the line style can be adjusted using the linestyle keyword."
   ]
  },
  {
   "cell_type": "code",
   "execution_count": null,
   "id": "06cc3d81",
   "metadata": {},
   "outputs": [],
   "source": [
    "plt.plot(x, x + 0, linestyle='solid')\n",
    "plt.plot(x, x + 1, linestyle='dashed')\n",
    "plt.plot(x, x + 2, linestyle='dashdot')\n",
    "plt.plot(x, x + 3, linestyle='dotted');\n",
    "\n",
    "# For short, you can use the following codes:\n",
    "plt.plot(x, x + 4, linestyle='-')  # solid\n",
    "plt.plot(x, x + 5, linestyle='--') # dashed\n",
    "plt.plot(x, x + 6, linestyle='-.') # dashdot\n",
    "plt.plot(x, x + 7, linestyle=':');  # dotted"
   ]
  },
  {
   "cell_type": "markdown",
   "id": "e86a019f",
   "metadata": {},
   "source": [
    "If you would like to be extremely terse, these linestyle and color codes can be combined into a single non-keyword argument to the plt.plot() function."
   ]
  },
  {
   "cell_type": "code",
   "execution_count": null,
   "id": "b195a70c",
   "metadata": {},
   "outputs": [],
   "source": [
    "plt.plot(x, x + 0, '-g')  # solid green\n",
    "plt.plot(x, x + 1, '--c') # dashed cyan\n",
    "plt.plot(x, x + 2, '-.k') # dashdot black\n",
    "plt.plot(x, x + 3, ':r');  # dotted red"
   ]
  },
  {
   "cell_type": "markdown",
   "id": "b58bea63",
   "metadata": {},
   "source": [
    "### Adjusting the Plot: Axes Limits\n",
    "Matplotlib does a decent job of choosing default axes limits for your plot, but sometimes it's nice to have finer control. The most basic way to adjust axis limits is to use the ```plt.xlim()``` and ```plt.ylim()``` methods."
   ]
  },
  {
   "cell_type": "code",
   "execution_count": null,
   "id": "0c7be42e",
   "metadata": {},
   "outputs": [],
   "source": [
    "plt.plot(x, np.sin(x))\n",
    "\n",
    "plt.xlim(-1, 11)\n",
    "plt.ylim(-1.5, 1.5);"
   ]
  },
  {
   "cell_type": "markdown",
   "id": "c11d5392",
   "metadata": {},
   "source": [
    "If for some reason you'd like either axis to be displayed in reverse, you can simply reverse the order of the arguments."
   ]
  },
  {
   "cell_type": "code",
   "execution_count": null,
   "id": "643f7a78",
   "metadata": {},
   "outputs": [],
   "source": [
    "plt.plot(x, np.sin(x))\n",
    "\n",
    "plt.xlim(10, 0)\n",
    "plt.ylim(1.2, -1.2);"
   ]
  },
  {
   "cell_type": "markdown",
   "id": "c7ec9b2d",
   "metadata": {},
   "source": [
    "A useful related method is '''plt.axis()''' (note here the potential confusion between axes with an *e*, and axis with an *i*). The ```plt.axis()``` method allows you to set the ```x``` and ```y``` limits with a single call, by passing a list which specifies ```[xmin, xmax, ymin, ymax]```."
   ]
  },
  {
   "cell_type": "code",
   "execution_count": null,
   "id": "6905b031",
   "metadata": {},
   "outputs": [],
   "source": [
    "plt.plot(x, np.sin(x))\n",
    "plt.axis([-1, 11, -1.5, 1.5]);"
   ]
  },
  {
   "cell_type": "markdown",
   "id": "7b5cf8da",
   "metadata": {},
   "source": [
    "The ```plt.axis()``` method goes even beyond this, allowing you to do things like automatically tighten the bounds around the current plot."
   ]
  },
  {
   "cell_type": "code",
   "execution_count": null,
   "id": "cfb6c690",
   "metadata": {},
   "outputs": [],
   "source": [
    "plt.plot(x, np.sin(x))\n",
    "plt.axis('tight');"
   ]
  },
  {
   "cell_type": "markdown",
   "id": "aac29988",
   "metadata": {},
   "source": [
    "### Labeling Plots\n",
    "Titles and axis labels are the simplest labels. There are methods that can be used to quickly set them. The position, size, and style of these labels can be adjusted using optional arguments to the function. For more information, see the Matplotlib documentation and the docstrings of each of these functions."
   ]
  },
  {
   "cell_type": "code",
   "execution_count": null,
   "id": "1480fa94",
   "metadata": {},
   "outputs": [],
   "source": [
    "plt.plot(x, np.sin(x))\n",
    "plt.title(\"A Sine Curve\")\n",
    "plt.xlabel(\"x\")\n",
    "plt.ylabel(\"sin(x)\");"
   ]
  },
  {
   "cell_type": "markdown",
   "id": "f6ca6084",
   "metadata": {},
   "source": [
    "When multiple lines are being shown within a single axes, it can be useful to create a plot legend that labels each line type. Again, Matplotlib has a built-in way of quickly creating such a legend. It is done via the (you guessed it) ```plt.legend()``` method. Though there are several valid ways of using this, I find it easiest to specify the label of each line using the ```label``` keyword of the plot function.The ```plt.legend()``` function keeps track of the line style and color, and matches these with the correct label. More information on specifying and formatting plot legends can be found in the plt.legend docstring. We'll also cover more detail in a subsequent tutorial section."
   ]
  },
  {
   "cell_type": "code",
   "execution_count": null,
   "id": "0571d46e",
   "metadata": {},
   "outputs": [],
   "source": [
    "plt.plot(x, np.sin(x), '-g', label='sin(x)')\n",
    "plt.plot(x, np.cos(x), ':b', label='cos(x)')\n",
    "plt.axis('equal')\n",
    "\n",
    "plt.legend();"
   ]
  },
  {
   "cell_type": "markdown",
   "id": "0e5f0fc7",
   "metadata": {},
   "source": [
    "### Some Important Differences between ```plt``` and ```ax```\n",
    "While most ```plt``` functions translate directly to ```ax``` methods (such as ```plt.plot()``` -> ```ax.plot()```, ```plt.legend()``` -> ```ax.legend()```, etc.), this is not the case for all commands. In particular, functions to set limits, labels, and titles are slightly modified. For transitioning between MATLAB-style functions and object-oriented methods, make the following changes:\n",
    "- ```plt.xlabel()``` -> ```ax.set_xlabel()\n",
    "- ```plt.ylabel()``` -> ```ax.set_ylabel()\n",
    "- ```plt.xlim()``` -> ```ax.set_xlim()\n",
    "- ```plt.ylim()``` -> ```ax.set_ylim()\n",
    "- ```plt.title()``` -> ```ax.set_title()\n",
    "\n",
    "In the object-oriented interface to plotting, rather than calling these functions individually, it is often more convenient to use the ```ax.set()``` method to set all these properties at once."
   ]
  },
  {
   "cell_type": "code",
   "execution_count": null,
   "id": "65579729",
   "metadata": {},
   "outputs": [],
   "source": [
    "ax = plt.axes()\n",
    "ax.plot(x, np.sin(x))\n",
    "ax.set(xlim=(0, 10), ylim=(-2, 2),\n",
    "       xlabel='x', ylabel='sin(x)',\n",
    "       title='A Simple Plot');"
   ]
  },
  {
   "cell_type": "markdown",
   "id": "4fe91a4c",
   "metadata": {},
   "source": [
    "## Simple Scatter Plots\n",
    "Another commonly used plot type is the simple scatter plot, a close cousin of the line plot. Instead of points being joined by line segments, here the points are represented individually with a dot, circle, or other shape.\n",
    "\n",
    "The same function used to generate line plots can be used to generate scatter plots: ```plt.plot```/```ax.plot```."
   ]
  },
  {
   "cell_type": "code",
   "execution_count": null,
   "id": "b41de3e6",
   "metadata": {
    "scrolled": true
   },
   "outputs": [],
   "source": [
    "x = np.linspace(0, 10, 30)\n",
    "y = np.sin(x)\n",
    "\n",
    "plt.plot(x, y, 'o', color='black');"
   ]
  },
  {
   "cell_type": "markdown",
   "id": "580ef27a",
   "metadata": {},
   "source": [
    "The third argument in the function call is a character that represents the type of symbol used for the plotting. Just as you can specify options such as '-', '--' to control the line style, the marker style has its own set of short string codes. The full list of available symbols can be seen in the documentation of ```plt.plot```, or in Matplotlib's online documentation. Most of the possibilities are fairly intuitive, and we'll illustrate a number of the more common ones here."
   ]
  },
  {
   "cell_type": "code",
   "execution_count": null,
   "id": "5f0b56f7",
   "metadata": {},
   "outputs": [],
   "source": [
    "rng = np.random.RandomState(0)\n",
    "for marker in ['o', '.', ',', 'x', '+', 'v', '^', '<', '>', 's', 'd']:\n",
    "    plt.plot(rng.rand(5), rng.rand(5), marker,\n",
    "             label=\"marker='{0}'\".format(marker))\n",
    "plt.legend(numpoints=1)\n",
    "plt.xlim(0, 1.8);"
   ]
  },
  {
   "cell_type": "markdown",
   "id": "68bd3dbf",
   "metadata": {},
   "source": [
    "For even more possibilities, these character codes can be used together with line and color codes to plot points along with a line connecting them!"
   ]
  },
  {
   "cell_type": "code",
   "execution_count": null,
   "id": "034b92eb",
   "metadata": {},
   "outputs": [],
   "source": [
    "plt.plot(x, y, '-ok'); # the semi-colon avoids printing plot metadata codes"
   ]
  },
  {
   "cell_type": "markdown",
   "id": "04a500c6",
   "metadata": {},
   "source": [
    "Additional keyword arguments to ```plt.plot``` specifiy a wide range of line and marker properties."
   ]
  },
  {
   "cell_type": "code",
   "execution_count": null,
   "id": "e2511276",
   "metadata": {},
   "outputs": [],
   "source": [
    "plt.plot(x, y, '-p', color='gray',\n",
    "         markersize=15, linewidth=4,\n",
    "         markerfacecolor='white',\n",
    "         markeredgecolor='gray',\n",
    "         markeredgewidth=2)\n",
    "plt.ylim(-1.2, 1.2);"
   ]
  },
  {
   "cell_type": "markdown",
   "id": "1e210b8d",
   "metadata": {},
   "source": [
    "## Scatter Plots with ```plt.scatter```\n",
    "A second, more powerful method of creating scatter plots is the ```plt.scatter``` function, which can be used very similarly to the ```plt.plot``` function."
   ]
  },
  {
   "cell_type": "code",
   "execution_count": null,
   "id": "7cdf0505",
   "metadata": {},
   "outputs": [],
   "source": [
    "plt.scatter(x, y, marker='o');"
   ]
  },
  {
   "cell_type": "markdown",
   "id": "c7173d18",
   "metadata": {},
   "source": [
    "The primary difference of ```plt.scatter``` from ```plt.plot``` is that it can be used to create scatter plots where the properties of each individual point (size, face color, edge color, etc.) can be individually controlled or mapped to data.\n",
    "\n",
    "Let's show this by creating a random scatter plot with points of many colors and sizes. In order to better see the overlapping results, we'll also use the alpha keyword to adjust the transparency level:"
   ]
  },
  {
   "cell_type": "code",
   "execution_count": null,
   "id": "eee18dc0",
   "metadata": {},
   "outputs": [],
   "source": [
    "rng = np.random.RandomState(0)\n",
    "x = rng.randn(100)\n",
    "y = rng.randn(100)\n",
    "colors = rng.rand(100)\n",
    "sizes = 1000 * rng.rand(100)\n",
    "\n",
    "plt.scatter(x, y, c=colors, s=sizes, alpha=0.3,\n",
    "            cmap='viridis')\n",
    "plt.colorbar();  # show color scale"
   ]
  },
  {
   "cell_type": "markdown",
   "id": "ea15e381",
   "metadata": {},
   "source": [
    "Notice that the color argument is automatically mapped to a color scale (shown here by the ```colorbar()``` command), and that the size argument is given in pixels. In this way, the color and size of points can be used to convey information in the visualization, in order to visualize multidimensional data.\n",
    "\n",
    "For example, we might use the Iris data from Scikit-Learn, where each sample is one of three types of flowers that has had the size of its petals and sepals carefully measured."
   ]
  },
  {
   "cell_type": "code",
   "execution_count": null,
   "id": "3549d6ba",
   "metadata": {},
   "outputs": [],
   "source": [
    "from sklearn.datasets import load_iris\n",
    "iris = load_iris()\n",
    "features = iris.data.T\n",
    "\n",
    "plt.scatter(features[0], features[1], alpha=0.2,\n",
    "            s=100*features[3], c=iris.target, cmap='viridis')\n",
    "plt.xlabel(iris.feature_names[0])\n",
    "plt.ylabel(iris.feature_names[1]);"
   ]
  },
  {
   "cell_type": "markdown",
   "id": "28ae52e3",
   "metadata": {},
   "source": [
    "We can see that this scatter plot has given us the ability to simultaneously explore four different dimensions of the data: the (x, y) location of each point corresponds to the sepal length and width, the size of the point is related to the petal width, and the color is related to the particular species of flower. Multicolor and multifeature scatter plots like this can be useful for both exploration and presentation of data."
   ]
  },
  {
   "cell_type": "markdown",
   "id": "f686adfc",
   "metadata": {},
   "source": [
    "#### ```plot``` Versus ```scatter```: A Note on Efficiency\n",
    "Aside from the different features available in ```plt.plot``` and ```plt.scatter```, why might you choose to use one over the other? While it doesn't matter as much for small amounts of data, as datasets get larger than a few thousand points, ```plt.plot``` can be noticeably more efficient than ```plt.scatter```. The reason is that ```plt.scatter``` has the capability to render a different size and/or color for each point, so the renderer must do the extra work of constructing each point individually. In ```plt.plot```, on the other hand, the points are always essentially clones of each other, so the work of determining the appearance of the points is done only once for the entire set of data. For large datasets, the difference between these two can lead to vastly different performance, and for this reason, ```plt.plot``` should be preferred over ```plt.scatter``` for large datasets."
   ]
  }
 ],
 "metadata": {
  "kernelspec": {
   "display_name": "Python 3",
   "language": "python",
   "name": "python3"
  },
  "language_info": {
   "codemirror_mode": {
    "name": "ipython",
    "version": 3
   },
   "file_extension": ".py",
   "mimetype": "text/x-python",
   "name": "python",
   "nbconvert_exporter": "python",
   "pygments_lexer": "ipython3",
   "version": "3.12.1"
  }
 },
 "nbformat": 4,
 "nbformat_minor": 5
}
